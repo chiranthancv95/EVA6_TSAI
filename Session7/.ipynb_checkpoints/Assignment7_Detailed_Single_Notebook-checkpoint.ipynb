{
 "cells": [
  {
   "cell_type": "code",
   "execution_count": 1,
   "metadata": {
    "colab": {
     "base_uri": "https://localhost:8080/"
    },
    "id": "ccHTmmCGRFWQ",
    "outputId": "714160e0-7089-473d-d180-3e4821b84d88"
   },
   "outputs": [
    {
     "name": "stdout",
     "output_type": "stream",
     "text": [
      "Collecting git+https://github.com/albumentations-team/albumentations.git\n",
      "  Cloning https://github.com/albumentations-team/albumentations.git to /tmp/pip-req-build-f77lq_8v\n",
      "  Running command git clone -q https://github.com/albumentations-team/albumentations.git /tmp/pip-req-build-f77lq_8v\n",
      "Requirement already satisfied (use --upgrade to upgrade): albumentations==1.0.0 from git+https://github.com/albumentations-team/albumentations.git in /usr/local/lib/python3.7/dist-packages\n",
      "Requirement already satisfied: numpy>=1.11.1 in /usr/local/lib/python3.7/dist-packages (from albumentations==1.0.0) (1.19.5)\n",
      "Requirement already satisfied: scipy in /usr/local/lib/python3.7/dist-packages (from albumentations==1.0.0) (1.4.1)\n",
      "Requirement already satisfied: scikit-image>=0.16.1 in /usr/local/lib/python3.7/dist-packages (from albumentations==1.0.0) (0.16.2)\n",
      "Requirement already satisfied: PyYAML in /usr/local/lib/python3.7/dist-packages (from albumentations==1.0.0) (3.13)\n",
      "Requirement already satisfied: opencv-python>=4.1.1 in /usr/local/lib/python3.7/dist-packages (from albumentations==1.0.0) (4.1.2.30)\n",
      "Requirement already satisfied: PyWavelets>=0.4.0 in /usr/local/lib/python3.7/dist-packages (from scikit-image>=0.16.1->albumentations==1.0.0) (1.1.1)\n",
      "Requirement already satisfied: pillow>=4.3.0 in /usr/local/lib/python3.7/dist-packages (from scikit-image>=0.16.1->albumentations==1.0.0) (7.1.2)\n",
      "Requirement already satisfied: networkx>=2.0 in /usr/local/lib/python3.7/dist-packages (from scikit-image>=0.16.1->albumentations==1.0.0) (2.5.1)\n",
      "Requirement already satisfied: imageio>=2.3.0 in /usr/local/lib/python3.7/dist-packages (from scikit-image>=0.16.1->albumentations==1.0.0) (2.4.1)\n",
      "Requirement already satisfied: matplotlib!=3.0.0,>=2.0.0 in /usr/local/lib/python3.7/dist-packages (from scikit-image>=0.16.1->albumentations==1.0.0) (3.2.2)\n",
      "Requirement already satisfied: decorator<5,>=4.3 in /usr/local/lib/python3.7/dist-packages (from networkx>=2.0->scikit-image>=0.16.1->albumentations==1.0.0) (4.4.2)\n",
      "Requirement already satisfied: pyparsing!=2.0.4,!=2.1.2,!=2.1.6,>=2.0.1 in /usr/local/lib/python3.7/dist-packages (from matplotlib!=3.0.0,>=2.0.0->scikit-image>=0.16.1->albumentations==1.0.0) (2.4.7)\n",
      "Requirement already satisfied: python-dateutil>=2.1 in /usr/local/lib/python3.7/dist-packages (from matplotlib!=3.0.0,>=2.0.0->scikit-image>=0.16.1->albumentations==1.0.0) (2.8.1)\n",
      "Requirement already satisfied: cycler>=0.10 in /usr/local/lib/python3.7/dist-packages (from matplotlib!=3.0.0,>=2.0.0->scikit-image>=0.16.1->albumentations==1.0.0) (0.10.0)\n",
      "Requirement already satisfied: kiwisolver>=1.0.1 in /usr/local/lib/python3.7/dist-packages (from matplotlib!=3.0.0,>=2.0.0->scikit-image>=0.16.1->albumentations==1.0.0) (1.3.1)\n",
      "Requirement already satisfied: six>=1.5 in /usr/local/lib/python3.7/dist-packages (from python-dateutil>=2.1->matplotlib!=3.0.0,>=2.0.0->scikit-image>=0.16.1->albumentations==1.0.0) (1.15.0)\n",
      "Building wheels for collected packages: albumentations\n",
      "  Building wheel for albumentations (setup.py) ... \u001b[?25l\u001b[?25hdone\n",
      "  Created wheel for albumentations: filename=albumentations-1.0.0-cp37-none-any.whl size=98151 sha256=823699ff3362dff2657d62027a9cbf30d43904dc108810b2ca2b81b10b3556e4\n",
      "  Stored in directory: /tmp/pip-ephem-wheel-cache-2yelshr5/wheels/e2/85/3e/2a40fac5cc1f43ced656603bb2fca1327b30ec7de1b1b66517\n",
      "Successfully built albumentations\n"
     ]
    }
   ],
   "source": [
    "!pip install git+https://github.com/albumentations-team/albumentations.git"
   ]
  },
  {
   "cell_type": "code",
   "execution_count": 2,
   "metadata": {
    "colab": {
     "base_uri": "https://localhost:8080/"
    },
    "id": "HI1a2tWav_av",
    "outputId": "4ab79c39-e521-4610-db47-eea536a3d409"
   },
   "outputs": [
    {
     "name": "stdout",
     "output_type": "stream",
     "text": [
      "Requirement already satisfied: torchscan in /usr/local/lib/python3.7/dist-packages (0.1.1)\n",
      "Requirement already satisfied: torch>=1.1.0 in /usr/local/lib/python3.7/dist-packages (from torchscan) (1.9.0+cu102)\n",
      "Requirement already satisfied: typing-extensions in /usr/local/lib/python3.7/dist-packages (from torch>=1.1.0->torchscan) (3.7.4.3)\n"
     ]
    }
   ],
   "source": [
    "!pip install torchscan"
   ]
  },
  {
   "cell_type": "code",
   "execution_count": 3,
   "metadata": {
    "id": "Cg5xdYySRdWa"
   },
   "outputs": [],
   "source": [
    "from __future__ import print_function\n",
    "import torch\n",
    "import torch.nn as nn\n",
    "import torch.optim as optim\n",
    "import torch.nn.functional as F\n",
    "from torch.utils.data import DataLoader\n",
    "from torchvision import datasets, transforms\n",
    "\n",
    "# Let's visualize some of the images\n",
    "%matplotlib inline\n",
    "import cv2\n",
    "import numpy as np\n",
    "import albumentations as A\n",
    "import matplotlib.pyplot as plt\n",
    "from albumentations.pytorch import ToTensorV2\n",
    "\n",
    "from tqdm import tqdm \n",
    "\n",
    "from torch.optim.lr_scheduler import StepLR,OneCycleLR"
   ]
  },
  {
   "cell_type": "code",
   "execution_count": 4,
   "metadata": {
    "id": "NMax2JS4Re5W"
   },
   "outputs": [],
   "source": [
    "class Transforms:\n",
    "    def __init__(self, transforms: A.Compose):\n",
    "        self.transforms = transforms\n",
    "\n",
    "    def __call__(self, img, *args, **kwargs):\n",
    "        return self.transforms(image=np.array(img))"
   ]
  },
  {
   "cell_type": "markdown",
   "metadata": {
    "id": "EruAcP_zjWe5"
   },
   "source": [
    "### **Analysing Data**"
   ]
  },
  {
   "cell_type": "code",
   "execution_count": 5,
   "metadata": {
    "colab": {
     "base_uri": "https://localhost:8080/"
    },
    "id": "LYal2tIZjZje",
    "outputId": "fe4a29bc-71e3-479c-c818-25a8f9985348"
   },
   "outputs": [
    {
     "name": "stdout",
     "output_type": "stream",
     "text": [
      "Files already downloaded and verified\n",
      "[0.49139968 0.48215841 0.44653091]\n"
     ]
    }
   ],
   "source": [
    "train_data = datasets.CIFAR10(\n",
    "    root='./data',\n",
    "    train=True,\n",
    "    download=True,\n",
    "    transform=transforms.Compose(\n",
    "        [transforms.ToTensor()]\n",
    "    )\n",
    ")\n",
    "\n",
    "print(train_data.data.mean(axis=(0, 1, 2))/255)"
   ]
  },
  {
   "cell_type": "code",
   "execution_count": 6,
   "metadata": {
    "colab": {
     "base_uri": "https://localhost:8080/"
    },
    "id": "MzdxUVhZjZT2",
    "outputId": "360b10d6-f153-4158-c0d5-6b43c50b0b75"
   },
   "outputs": [
    {
     "data": {
      "text/plain": [
       "50000"
      ]
     },
     "execution_count": 6,
     "metadata": {
      "tags": []
     },
     "output_type": "execute_result"
    }
   ],
   "source": [
    "len(train_data)"
   ]
  },
  {
   "cell_type": "code",
   "execution_count": 7,
   "metadata": {
    "colab": {
     "base_uri": "https://localhost:8080/"
    },
    "id": "eNJIuu27jhqJ",
    "outputId": "beb3d447-418a-4ee8-bce7-3c76bac20492"
   },
   "outputs": [
    {
     "data": {
      "text/plain": [
       "(50000, 32, 32, 3)"
      ]
     },
     "execution_count": 7,
     "metadata": {
      "tags": []
     },
     "output_type": "execute_result"
    }
   ],
   "source": [
    "train_data.data.shape"
   ]
  },
  {
   "cell_type": "markdown",
   "metadata": {
    "id": "qTf6Z4Ekhutz"
   },
   "source": [
    "### **Transformations**\n",
    "\n",
    "* **Transformations used on Train Data**\n",
    "  * Horizontal Flip\n",
    "  * ShiftScaleRotate\n",
    "  * Coarse Dropout\n",
    "\n",
    "* References:\n",
    "  * [albumentation_doocs](https://albumentations.ai/docs/examples/pytorch_classification/)\n",
    "  * [video_tutorial](https://www.youtube.com/watch?v=rAdLwKJBvPM&ab_channel=AladdinPersson)\n",
    "  * [albumentations_classes](https://albumentations.ai/docs/api_reference/augmentations/transforms/)"
   ]
  },
  {
   "cell_type": "code",
   "execution_count": 8,
   "metadata": {
    "id": "rNDuLCNXRgtC"
   },
   "outputs": [],
   "source": [
    "train_transform = A.Compose([\n",
    "            A.HorizontalFlip(p=0.3),\n",
    "            A.ShiftScaleRotate(shift_limit=0.1, scale_limit=0.1, rotate_limit=30, interpolation=cv2.INTER_LINEAR, border_mode=cv2.BORDER_REFLECT_101, always_apply=False, p=0.5),\n",
    "            A.CoarseDropout(max_holes = 1, max_height=16, max_width=16, min_holes = 1, min_height=16, min_width=16, fill_value=(0.4914, 0.4822, 0.4465), mask_fill_value = None),\n",
    "            A.ToGray(),\n",
    "            A.Normalize(mean=(0.4914, 0.4822, 0.4465), std=(0.247, 0.243, 0.261)),\n",
    "            ToTensorV2(),\n",
    "        ])\n",
    "\n",
    "test_transform = A.Compose([\n",
    "    A.Normalize(mean=(0.4914, 0.4822, 0.4465), std=(0.247, 0.243, 0.261)),\n",
    "    ToTensorV2(),\n",
    "])"
   ]
  },
  {
   "cell_type": "code",
   "execution_count": 9,
   "metadata": {
    "colab": {
     "base_uri": "https://localhost:8080/"
    },
    "id": "qlptlmhKRrPE",
    "outputId": "0528b831-0346-4111-e8e6-99077417cb58"
   },
   "outputs": [
    {
     "name": "stdout",
     "output_type": "stream",
     "text": [
      "CUDA Available? True\n"
     ]
    }
   ],
   "source": [
    "SEED = 1\n",
    "\n",
    "# CUDA?\n",
    "cuda = torch.cuda.is_available()\n",
    "print(\"CUDA Available?\", cuda)\n",
    "\n",
    "# For reproducibility\n",
    "torch.manual_seed(SEED)\n",
    "\n",
    "if cuda:\n",
    "    torch.cuda.manual_seed(SEED)"
   ]
  },
  {
   "cell_type": "code",
   "execution_count": 10,
   "metadata": {
    "id": "AH67M6tlRtNT"
   },
   "outputs": [],
   "source": [
    "train_transform = Transforms(train_transform)\n",
    "test_transform = Transforms(test_transform)"
   ]
  },
  {
   "cell_type": "markdown",
   "metadata": {
    "id": "XCdrJAioUiuQ"
   },
   "source": [
    "### **Download And Load Train, Test Data**"
   ]
  },
  {
   "cell_type": "code",
   "execution_count": 11,
   "metadata": {
    "colab": {
     "base_uri": "https://localhost:8080/"
    },
    "id": "Jyv0BOriRu4_",
    "outputId": "48d6e854-4c10-48a4-9397-3c53b23371e9"
   },
   "outputs": [
    {
     "name": "stdout",
     "output_type": "stream",
     "text": [
      "Files already downloaded and verified\n",
      "Files already downloaded and verified\n"
     ]
    }
   ],
   "source": [
    "train = datasets.CIFAR10(root='./data', train=True,\n",
    "                        download=True, transform=train_transform)\n",
    "test = datasets.CIFAR10(root='./data', download=True, transform=test_transform)\n",
    "\n",
    "train_loader = torch.utils.data.DataLoader(train, \n",
    "                                          batch_size=128, \n",
    "                                          shuffle=True,\n",
    "                                          num_workers=2, \n",
    "                                          pin_memory=True)\n",
    "test_loader = torch.utils.data.DataLoader(test, \n",
    "                                          batch_size=128,  \n",
    "                                          shuffle=False,\n",
    "                                          num_workers=2, \n",
    "                                          pin_memory=True)"
   ]
  },
  {
   "cell_type": "code",
   "execution_count": 12,
   "metadata": {
    "colab": {
     "base_uri": "https://localhost:8080/",
     "height": 286
    },
    "id": "VvJ1RQrsRw37",
    "outputId": "0edbbb8b-3d67-4b02-8520-5be1563f6838"
   },
   "outputs": [
    {
     "name": "stderr",
     "output_type": "stream",
     "text": [
      "Clipping input data to the valid range for imshow with RGB data ([0..1] for floats or [0..255] for integers).\n"
     ]
    },
    {
     "data": {
      "image/png": "[encoded data removed]",
      "text/plain": [
       "<Figure size 432x288 with 1 Axes>"
      ]
     },
     "metadata": {
      "needs_background": "light",
      "tags": []
     },
     "output_type": "display_data"
    }
   ],
   "source": [
    "import matplotlib.pyplot as plt\n",
    "import numpy as np\n",
    "import torchvision\n",
    "# functions to show an image\n",
    "\n",
    "\n",
    "def imshow(img):\n",
    "    img = img / 2 + 0.5     # unnormalize\n",
    "    npimg = img.numpy()\n",
    "    plt.imshow(np.transpose(npimg, (1, 2, 0)))\n",
    "\n",
    "\n",
    "# get some random training images\n",
    "dataiter = iter(train_loader)\n",
    "images, labels = dataiter.next()\n",
    "\n",
    "# show images\n",
    "imshow(torchvision.utils.make_grid(images[\"image\"]))\n",
    "# print labels\n",
    "# print(' '.join('%5s' % classes[labels[j]] for j in range(4)))"
   ]
  },
  {
   "cell_type": "code",
   "execution_count": 13,
   "metadata": {
    "id": "hMY4Py1jR1Ot"
   },
   "outputs": [],
   "source": [
    "use_cuda = torch.cuda.is_available()\n",
    "device = 'cuda' if use_cuda else 'cpu'"
   ]
  },
  {
   "cell_type": "markdown",
   "metadata": {
    "id": "5QAK5VMxh7PM"
   },
   "source": [
    "### **Model Design**"
   ]
  },
  {
   "cell_type": "code",
   "execution_count": 14,
   "metadata": {
    "id": "o27U-IAQR3Or"
   },
   "outputs": [],
   "source": [
    "import torch.nn as nn\n",
    "import torch.nn.functional as F\n",
    "\n",
    "#depthwise separable convolution\n",
    "class DepthwiseSeparable(nn.Module):\n",
    "  def __init__(self, in_ch, out_ch, stride=1):\n",
    "    super(DepthwiseSeparable, self).__init__()\n",
    "    self.in_chan = in_ch\n",
    "    self.out_chan = out_ch\n",
    "\n",
    "    self.depthwise = nn.Sequential(\n",
    "          nn.Conv2d(in_channels=self.in_chan, out_channels=self.in_chan, kernel_size=(3, 3), padding=1, stride=stride, groups=self.in_chan, bias=False),\n",
    "          #pointwise\n",
    "          nn.Conv2d(in_channels=self.in_chan, out_channels=self.out_chan, kernel_size=(1,1)))\n",
    "\n",
    "  def forward(self, x):\n",
    "    x = self.depthwise(x)\n",
    "    return x\n",
    "\n",
    "\n",
    "dropout=0.025\n",
    "class Net(nn.Module):\n",
    "    def __init__(self):\n",
    "        super(Net, self).__init__()\n",
    "\n",
    "        self.convblock1 = nn.Sequential(\n",
    "            nn.Conv2d(in_channels=3, out_channels=32, kernel_size=(3, 3), padding=1, bias=False),  # Input: 32x32x3 | Output: 32x32x32 | RF: 3x3\n",
    "            nn.BatchNorm2d(32),\n",
    "            nn.ReLU(),\n",
    "            nn.Dropout(dropout),\n",
    "\n",
    "            nn.Conv2d(in_channels=32, out_channels=32, kernel_size=(3, 3), padding=1, bias=False),   # Input: 32x32x32 | Output: 32x32x32 | RF: 5x5\n",
    "            nn.BatchNorm2d(32),\n",
    "            nn.ReLU(),\n",
    "            nn.Dropout(dropout),\n",
    "        )\n",
    "\n",
    "        self.transblock1 =  nn.Sequential(\n",
    "            #Stride 2 conv\n",
    "            nn.Conv2d(in_channels=32, out_channels=32, kernel_size=(3, 3), padding=1, stride=2, bias=False),  # Input: 32x32x32 | Output: 16x16x32 | RF: 7x7\n",
    "            nn.BatchNorm2d(32),\n",
    "            nn.ReLU(),\n",
    "            nn.Dropout(dropout),\n",
    "\n",
    "        )\n",
    "\n",
    "        self.convblock2 = nn.Sequential(\n",
    "            nn.Conv2d(in_channels=32, out_channels=64, kernel_size=(3, 3), padding=1, bias=False),   # Input: 16x16x32 | Output: 16x16x64 | RF: 11x11\n",
    "            nn.BatchNorm2d(64),\n",
    "            nn.ReLU(),\n",
    "            nn.Dropout(dropout),  \n",
    "\n",
    "        ) \n",
    "\n",
    "        self.transblock2 =  nn.Sequential(\n",
    "            #Stride 2 conv\n",
    "            DepthwiseSeparable(64,64,2), # Input: 16x16x64 | Output: 8x8x64 | RF: 15x15\n",
    "            # nn.Conv2d(in_channels=64, out_channels=64, kernel_size=(3, 3), padding=1, stride=2, bias=False),\n",
    "            nn.BatchNorm2d(64),\n",
    "            nn.ReLU(),\n",
    "            nn.Dropout(dropout),\n",
    "        )\n",
    "\n",
    "        self.convblock3 = nn.Sequential(\n",
    "            DepthwiseSeparable(64, 128), # Input: 8x8x64 | Output: 8x8x128 | RF: 23x23\n",
    "            # nn.Conv2d(in_channels=64, out_channels=128, kernel_size=(3, 3), padding=1, bias=False),\n",
    "            nn.BatchNorm2d(128),\n",
    "            nn.ReLU(),\n",
    "            nn.Dropout(dropout),  \n",
    "            nn.Conv2d(in_channels=128, out_channels=32, kernel_size=(1, 1), bias=False), # Input: 8x8x128 | Output: 8x8x32 | RF: 23x23\n",
    "            nn.BatchNorm2d(32),\n",
    "            nn.ReLU(),\n",
    "            nn.Dropout(dropout), \n",
    "\n",
    "        ) \n",
    "\n",
    "        self.transblock3 =  nn.Sequential(\n",
    "            nn.Conv2d(in_channels=32, out_channels=32, kernel_size=(3, 3), padding=1, dilation=2, bias=False), # Input: 8x8x128 | Output: 6x6x32 | RF: 39x39\n",
    "            nn.Conv2d(in_channels=32, out_channels=32, kernel_size=(3, 3), padding=1, dilation=2, bias=False), # Input: 6x6x32 | Output: 4x4x32 | RF: 55x55\n",
    "            nn.BatchNorm2d(32),\n",
    "            nn.ReLU(),\n",
    "            nn.Dropout(dropout),\n",
    "        )\n",
    "\n",
    "        self.convblock4 = nn.Sequential(\n",
    "            nn.Conv2d(in_channels=32, out_channels=32, kernel_size=(3, 3), padding=1, bias=False), # Input: 4x4x32 | Output: 4x4x32 | RF: 63x63\n",
    "            nn.ReLU(),\n",
    "            nn.Conv2d(in_channels=32, out_channels=10, kernel_size=(3, 3), padding=1, bias=False), # Input: 4x4x32 | Output: 4x4x10 | RF: 71x71\n",
    "\n",
    "        ) \n",
    "\n",
    "        self.gap = nn.AvgPool2d(4)\n",
    "\n",
    "    def forward(self, x):\n",
    "        x =  self.transblock1(self.convblock1(x))\n",
    "        x =  self.transblock2(self.convblock2(x))\n",
    "        x =  self.transblock3(self.convblock3(x))\n",
    "        x =  self.convblock4(x)\n",
    "        x =  self.gap(x)\n",
    "        x = x.view(-1, 10)\n",
    "        \n",
    "        return F.log_softmax(x, dim=-1)"
   ]
  },
  {
   "cell_type": "markdown",
   "metadata": {
    "id": "3dwITEP4h-iv"
   },
   "source": [
    "### **Model Summary**"
   ]
  },
  {
   "cell_type": "code",
   "execution_count": 15,
   "metadata": {
    "colab": {
     "base_uri": "https://localhost:8080/"
    },
    "id": "RpB5YJPWSFom",
    "outputId": "8fea0548-2c3f-4e9f-b14f-8f48b227dfb0"
   },
   "outputs": [
    {
     "name": "stdout",
     "output_type": "stream",
     "text": [
      "Requirement already satisfied: torchsummary in /usr/local/lib/python3.7/dist-packages (1.5.1)\n",
      "cuda\n",
      "----------------------------------------------------------------\n",
      "        Layer (type)               Output Shape         Param #\n",
      "================================================================\n",
      "            Conv2d-1           [-1, 32, 32, 32]             864\n",
      "       BatchNorm2d-2           [-1, 32, 32, 32]              64\n",
      "              ReLU-3           [-1, 32, 32, 32]               0\n",
      "           Dropout-4           [-1, 32, 32, 32]               0\n",
      "            Conv2d-5           [-1, 32, 32, 32]           9,216\n",
      "       BatchNorm2d-6           [-1, 32, 32, 32]              64\n",
      "              ReLU-7           [-1, 32, 32, 32]               0\n",
      "           Dropout-8           [-1, 32, 32, 32]               0\n",
      "            Conv2d-9           [-1, 32, 16, 16]           9,216\n",
      "      BatchNorm2d-10           [-1, 32, 16, 16]              64\n",
      "             ReLU-11           [-1, 32, 16, 16]               0\n",
      "          Dropout-12           [-1, 32, 16, 16]               0\n",
      "           Conv2d-13           [-1, 64, 16, 16]          18,432\n",
      "      BatchNorm2d-14           [-1, 64, 16, 16]             128\n",
      "             ReLU-15           [-1, 64, 16, 16]               0\n",
      "          Dropout-16           [-1, 64, 16, 16]               0\n",
      "           Conv2d-17             [-1, 64, 8, 8]             576\n",
      "           Conv2d-18             [-1, 64, 8, 8]           4,160\n",
      "DepthwiseSeparable-19             [-1, 64, 8, 8]               0\n",
      "      BatchNorm2d-20             [-1, 64, 8, 8]             128\n",
      "             ReLU-21             [-1, 64, 8, 8]               0\n",
      "          Dropout-22             [-1, 64, 8, 8]               0\n",
      "           Conv2d-23             [-1, 64, 8, 8]             576\n",
      "           Conv2d-24            [-1, 128, 8, 8]           8,320\n",
      "DepthwiseSeparable-25            [-1, 128, 8, 8]               0\n",
      "      BatchNorm2d-26            [-1, 128, 8, 8]             256\n",
      "             ReLU-27            [-1, 128, 8, 8]               0\n",
      "          Dropout-28            [-1, 128, 8, 8]               0\n",
      "           Conv2d-29             [-1, 32, 8, 8]           4,096\n",
      "      BatchNorm2d-30             [-1, 32, 8, 8]              64\n",
      "             ReLU-31             [-1, 32, 8, 8]               0\n",
      "          Dropout-32             [-1, 32, 8, 8]               0\n",
      "           Conv2d-33             [-1, 32, 6, 6]           9,216\n",
      "           Conv2d-34             [-1, 32, 4, 4]           9,216\n",
      "      BatchNorm2d-35             [-1, 32, 4, 4]              64\n",
      "             ReLU-36             [-1, 32, 4, 4]               0\n",
      "          Dropout-37             [-1, 32, 4, 4]               0\n",
      "           Conv2d-38             [-1, 32, 4, 4]           9,216\n",
      "             ReLU-39             [-1, 32, 4, 4]               0\n",
      "           Conv2d-40             [-1, 10, 4, 4]           2,880\n",
      "        AvgPool2d-41             [-1, 10, 1, 1]               0\n",
      "================================================================\n",
      "Total params: 86,816\n",
      "Trainable params: 86,816\n",
      "Non-trainable params: 0\n",
      "----------------------------------------------------------------\n",
      "Input size (MB): 0.01\n",
      "Forward/backward pass size (MB): 3.38\n",
      "Params size (MB): 0.33\n",
      "Estimated Total Size (MB): 3.72\n",
      "----------------------------------------------------------------\n"
     ]
    }
   ],
   "source": [
    "!pip install torchsummary\n",
    "from torchsummary import summary\n",
    "use_cuda = torch.cuda.is_available()\n",
    "device = torch.device(\"cuda\" if use_cuda else \"cpu\")\n",
    "print(device)\n",
    "model = Net().to(device)\n",
    "summary(model, input_size=(3, 32, 32))"
   ]
  },
  {
   "cell_type": "markdown",
   "metadata": {
    "id": "1l7lGl-i2IP3"
   },
   "source": [
    "## **Receptive Field Calculation**"
   ]
  },
  {
   "cell_type": "code",
   "execution_count": 16,
   "metadata": {
    "colab": {
     "base_uri": "https://localhost:8080/"
    },
    "id": "WMY2EF0LwGE5",
    "outputId": "1ae156b8-a2b6-4d2b-eb71-4bcfbabf4661"
   },
   "outputs": [
    {
     "name": "stdout",
     "output_type": "stream",
     "text": [
      "____________________________________________________________________________________________________________\n",
      "Layer                        Type                  Output Shape              Param #         Receptive field\n",
      "============================================================================================================\n",
      "net                          Net                   (-1, 10)                  0               67             \n",
      "├─convblock1                 Sequential            (-1, 32, 32, 32)          10,338          67             \n",
      "├─transblock1                Sequential            (-1, 32, 16, 16)          9,345           63             \n",
      "├─convblock2                 Sequential            (-1, 64, 16, 16)          18,689          31             \n",
      "├─transblock2                Sequential            (-1, 64, 8, 8)            4,993           29             \n",
      "├─convblock3                 Sequential            (-1, 32, 8, 8)            13,634          14             \n",
      "├─transblock3                Sequential            (-1, 32, 4, 4)            18,561          12             \n",
      "├─convblock4                 Sequential            (-1, 10, 4, 4)            12,096          8              \n",
      "├─gap                        AvgPool2d             (-1, 10, 1, 1)            0               4              \n",
      "============================================================================================================\n",
      "Trainable params: 86,816\n",
      "Non-trainable params: 0\n",
      "Total params: 86,816\n",
      "------------------------------------------------------------------------------------------------------------\n",
      "Model size (params + buffers): 0.33 Mb\n",
      "Framework & CUDA overhead: -0.36 Mb\n",
      "Total RAM usage: -0.03 Mb\n",
      "------------------------------------------------------------------------------------------------------------\n",
      "Floating Point Operations on forward: 39.34 MFLOPs\n",
      "Multiply-Accumulations on forward: 19.72 MMACs\n",
      "Direct memory accesses on forward: 20.03 MDMAs\n",
      "____________________________________________________________________________________________________________\n",
      "\n"
     ]
    }
   ],
   "source": [
    "from torchscan import summary\n",
    "\n",
    "summary(model, (3, 32, 32), receptive_field=True, max_depth=1)"
   ]
  },
  {
   "cell_type": "code",
   "execution_count": 16,
   "metadata": {
    "id": "xkXEx0xOwGCi"
   },
   "outputs": [],
   "source": []
  },
  {
   "cell_type": "markdown",
   "metadata": {
    "id": "JCacX6kPiGBJ"
   },
   "source": [
    "### **Train Function**"
   ]
  },
  {
   "cell_type": "code",
   "execution_count": 17,
   "metadata": {
    "id": "2x4QNPgMSJ66"
   },
   "outputs": [],
   "source": [
    "def train(model, device, train_loader, optimizer, epoch,scheduler,criterion):\n",
    "\n",
    "  model.train()\n",
    "  pbar = tqdm(train_loader)\n",
    "  \n",
    "  correct = 0\n",
    "  processed = 0\n",
    "  train_loss = 0\n",
    "  \n",
    "  lambda_l1 = 0.001\n",
    "  for batch_idx, (data, target) in enumerate(pbar):\n",
    "    # get samples\n",
    "    data, target = data[\"image\"].to(device), target.to(device)\n",
    "\n",
    "    # Init\n",
    "    optimizer.zero_grad()\n",
    "\n",
    "    # Predict\n",
    "    y_pred = model(data)\n",
    "\n",
    "    # Calculate loss\n",
    "    loss = criterion(y_pred, target)\n",
    "\n",
    "    train_loss += loss.item()\n",
    "\n",
    "    # Backpropagation\n",
    "    loss.backward()\n",
    "        \n",
    "    optimizer.step()\n",
    "    scheduler.step()\n",
    "    \n",
    "    pred = y_pred.argmax(dim=1, keepdim=True)  # get the index of the max log-probability\n",
    "    correct += pred.eq(target.view_as(pred)).sum().item()\n",
    "    processed += len(data)\n",
    "\n",
    "    pbar.set_description(desc= f'Loss={loss.item()} Batch_id={batch_idx} Accuracy={100*correct/processed:0.2f}')\n",
    "  train_acc = (100*correct/processed)\n",
    "  return train_acc, train_loss"
   ]
  },
  {
   "cell_type": "markdown",
   "metadata": {
    "id": "rUNt3EP7iNGC"
   },
   "source": [
    "### **Test Function**"
   ]
  },
  {
   "cell_type": "code",
   "execution_count": 18,
   "metadata": {
    "id": "R7L0LWyWSYcx"
   },
   "outputs": [],
   "source": [
    "def test(model, device, test_loader,criterion):\n",
    "    model.eval()\n",
    "    test_loss = 0\n",
    "    correct = 0\n",
    "    with torch.no_grad():\n",
    "        for data, target in test_loader:\n",
    "            data, target = data[\"image\"].to(device), target.to(device)\n",
    "            output = model(data)\n",
    "            test_loss += F.cross_entropy(output, target).item()  # sum up batch loss\n",
    "            pred = output.argmax(dim=1, keepdim=True)  # get the index of the max log-probability\n",
    "            correct += pred.eq(target.view_as(pred)).sum().item()\n",
    "\n",
    "    test_loss /= len(test_loader.dataset)\n",
    "    # test_losses.append(test_loss)\n",
    "\n",
    "    print('\\nTest set: Average loss: {:.4f}, Accuracy: {}/{} ({:.2f}%)\\n'.format(\n",
    "        test_loss, correct, len(test_loader.dataset),\n",
    "        100. * correct / len(test_loader.dataset)))\n",
    "    \n",
    "    test_acc = (100. * correct / len(test_loader.dataset))\n",
    "    return test_acc, test_loss"
   ]
  },
  {
   "cell_type": "markdown",
   "metadata": {
    "id": "P7aMS-lciTkG"
   },
   "source": [
    "### **Train And Test the Model**"
   ]
  },
  {
   "cell_type": "code",
   "execution_count": 19,
   "metadata": {
    "colab": {
     "base_uri": "https://localhost:8080/"
    },
    "id": "DqByaLkcSbgI",
    "outputId": "3e997492-edde-417f-cc67-17df89829276"
   },
   "outputs": [
    {
     "name": "stderr",
     "output_type": "stream",
     "text": [
      "\r",
      "  0%|          | 0/391 [00:00<?, ?it/s]"
     ]
    },
    {
     "name": "stdout",
     "output_type": "stream",
     "text": [
      "Epoch 1:\n"
     ]
    },
    {
     "name": "stderr",
     "output_type": "stream",
     "text": [
      "Loss=2.1719889640808105 Batch_id=390 Accuracy=12.97: 100%|██████████| 391/391 [00:14<00:00, 27.83it/s]\n",
      "  0%|          | 0/391 [00:00<?, ?it/s]"
     ]
    },
    {
     "name": "stdout",
     "output_type": "stream",
     "text": [
      "\n",
      "Test set: Average loss: 0.0165, Accuracy: 9883/50000 (19.77%)\n",
      "\n",
      "Epoch 2:\n"
     ]
    },
    {
     "name": "stderr",
     "output_type": "stream",
     "text": [
      "Loss=1.9014451503753662 Batch_id=390 Accuracy=21.64: 100%|██████████| 391/391 [00:13<00:00, 28.08it/s]\n",
      "  0%|          | 0/391 [00:00<?, ?it/s]"
     ]
    },
    {
     "name": "stdout",
     "output_type": "stream",
     "text": [
      "\n",
      "Test set: Average loss: 0.0139, Accuracy: 16200/50000 (32.40%)\n",
      "\n",
      "Epoch 3:\n"
     ]
    },
    {
     "name": "stderr",
     "output_type": "stream",
     "text": [
      "Loss=1.6400508880615234 Batch_id=390 Accuracy=33.71: 100%|██████████| 391/391 [00:13<00:00, 28.60it/s]\n",
      "  0%|          | 0/391 [00:00<?, ?it/s]"
     ]
    },
    {
     "name": "stdout",
     "output_type": "stream",
     "text": [
      "\n",
      "Test set: Average loss: 0.0115, Accuracy: 22525/50000 (45.05%)\n",
      "\n",
      "Epoch 4:\n"
     ]
    },
    {
     "name": "stderr",
     "output_type": "stream",
     "text": [
      "Loss=1.4724667072296143 Batch_id=390 Accuracy=41.78: 100%|██████████| 391/391 [00:13<00:00, 28.43it/s]\n",
      "  0%|          | 0/391 [00:00<?, ?it/s]"
     ]
    },
    {
     "name": "stdout",
     "output_type": "stream",
     "text": [
      "\n",
      "Test set: Average loss: 0.0106, Accuracy: 25098/50000 (50.20%)\n",
      "\n",
      "Epoch 5:\n"
     ]
    },
    {
     "name": "stderr",
     "output_type": "stream",
     "text": [
      "Loss=1.3281852006912231 Batch_id=390 Accuracy=47.10: 100%|██████████| 391/391 [00:14<00:00, 27.71it/s]\n",
      "  0%|          | 0/391 [00:00<?, ?it/s]"
     ]
    },
    {
     "name": "stdout",
     "output_type": "stream",
     "text": [
      "\n",
      "Test set: Average loss: 0.0097, Accuracy: 27411/50000 (54.82%)\n",
      "\n",
      "Epoch 6:\n"
     ]
    },
    {
     "name": "stderr",
     "output_type": "stream",
     "text": [
      "Loss=1.2315219640731812 Batch_id=390 Accuracy=50.68: 100%|██████████| 391/391 [00:13<00:00, 28.56it/s]\n",
      "  0%|          | 0/391 [00:00<?, ?it/s]"
     ]
    },
    {
     "name": "stdout",
     "output_type": "stream",
     "text": [
      "\n",
      "Test set: Average loss: 0.0092, Accuracy: 28973/50000 (57.95%)\n",
      "\n",
      "Epoch 7:\n"
     ]
    },
    {
     "name": "stderr",
     "output_type": "stream",
     "text": [
      "Loss=1.2887800931930542 Batch_id=390 Accuracy=54.13: 100%|██████████| 391/391 [00:13<00:00, 28.25it/s]\n",
      "  0%|          | 0/391 [00:00<?, ?it/s]"
     ]
    },
    {
     "name": "stdout",
     "output_type": "stream",
     "text": [
      "\n",
      "Test set: Average loss: 0.0094, Accuracy: 29048/50000 (58.10%)\n",
      "\n",
      "Epoch 8:\n"
     ]
    },
    {
     "name": "stderr",
     "output_type": "stream",
     "text": [
      "Loss=1.1877275705337524 Batch_id=390 Accuracy=56.83: 100%|██████████| 391/391 [00:13<00:00, 28.27it/s]\n",
      "  0%|          | 0/391 [00:00<?, ?it/s]"
     ]
    },
    {
     "name": "stdout",
     "output_type": "stream",
     "text": [
      "\n",
      "Test set: Average loss: 0.0081, Accuracy: 32234/50000 (64.47%)\n",
      "\n",
      "Epoch 9:\n"
     ]
    },
    {
     "name": "stderr",
     "output_type": "stream",
     "text": [
      "Loss=1.1160725355148315 Batch_id=390 Accuracy=58.85: 100%|██████████| 391/391 [00:14<00:00, 27.68it/s]\n",
      "  0%|          | 0/391 [00:00<?, ?it/s]"
     ]
    },
    {
     "name": "stdout",
     "output_type": "stream",
     "text": [
      "\n",
      "Test set: Average loss: 0.0064, Accuracy: 35415/50000 (70.83%)\n",
      "\n",
      "Epoch 10:\n"
     ]
    },
    {
     "name": "stderr",
     "output_type": "stream",
     "text": [
      "Loss=1.0894850492477417 Batch_id=390 Accuracy=60.87: 100%|██████████| 391/391 [00:13<00:00, 27.94it/s]\n",
      "  0%|          | 0/391 [00:00<?, ?it/s]"
     ]
    },
    {
     "name": "stdout",
     "output_type": "stream",
     "text": [
      "\n",
      "Test set: Average loss: 0.0065, Accuracy: 35509/50000 (71.02%)\n",
      "\n",
      "Epoch 11:\n"
     ]
    },
    {
     "name": "stderr",
     "output_type": "stream",
     "text": [
      "Loss=1.07767915725708 Batch_id=390 Accuracy=61.73: 100%|██████████| 391/391 [00:13<00:00, 28.18it/s]\n",
      "  0%|          | 0/391 [00:00<?, ?it/s]"
     ]
    },
    {
     "name": "stdout",
     "output_type": "stream",
     "text": [
      "\n",
      "Test set: Average loss: 0.0060, Accuracy: 36612/50000 (73.22%)\n",
      "\n",
      "Epoch 12:\n"
     ]
    },
    {
     "name": "stderr",
     "output_type": "stream",
     "text": [
      "Loss=0.8625583648681641 Batch_id=390 Accuracy=63.70: 100%|██████████| 391/391 [00:13<00:00, 28.41it/s]\n",
      "  0%|          | 0/391 [00:00<?, ?it/s]"
     ]
    },
    {
     "name": "stdout",
     "output_type": "stream",
     "text": [
      "\n",
      "Test set: Average loss: 0.0056, Accuracy: 37303/50000 (74.61%)\n",
      "\n",
      "Epoch 13:\n"
     ]
    },
    {
     "name": "stderr",
     "output_type": "stream",
     "text": [
      "Loss=1.0385239124298096 Batch_id=390 Accuracy=64.66: 100%|██████████| 391/391 [00:14<00:00, 27.37it/s]\n",
      "  0%|          | 0/391 [00:00<?, ?it/s]"
     ]
    },
    {
     "name": "stdout",
     "output_type": "stream",
     "text": [
      "\n",
      "Test set: Average loss: 0.0055, Accuracy: 37717/50000 (75.43%)\n",
      "\n",
      "Epoch 14:\n"
     ]
    },
    {
     "name": "stderr",
     "output_type": "stream",
     "text": [
      "Loss=0.8587749600410461 Batch_id=390 Accuracy=65.40: 100%|██████████| 391/391 [00:14<00:00, 26.98it/s]\n",
      "  0%|          | 0/391 [00:00<?, ?it/s]"
     ]
    },
    {
     "name": "stdout",
     "output_type": "stream",
     "text": [
      "\n",
      "Test set: Average loss: 0.0053, Accuracy: 38102/50000 (76.20%)\n",
      "\n",
      "Epoch 15:\n"
     ]
    },
    {
     "name": "stderr",
     "output_type": "stream",
     "text": [
      "Loss=0.9635968208312988 Batch_id=390 Accuracy=66.51: 100%|██████████| 391/391 [00:14<00:00, 26.67it/s]\n",
      "  0%|          | 0/391 [00:00<?, ?it/s]"
     ]
    },
    {
     "name": "stdout",
     "output_type": "stream",
     "text": [
      "\n",
      "Test set: Average loss: 0.0050, Accuracy: 38875/50000 (77.75%)\n",
      "\n",
      "Epoch 16:\n"
     ]
    },
    {
     "name": "stderr",
     "output_type": "stream",
     "text": [
      "Loss=0.9825060963630676 Batch_id=390 Accuracy=67.24: 100%|██████████| 391/391 [00:15<00:00, 25.77it/s]\n",
      "  0%|          | 0/391 [00:00<?, ?it/s]"
     ]
    },
    {
     "name": "stdout",
     "output_type": "stream",
     "text": [
      "\n",
      "Test set: Average loss: 0.0048, Accuracy: 39307/50000 (78.61%)\n",
      "\n",
      "Epoch 17:\n"
     ]
    },
    {
     "name": "stderr",
     "output_type": "stream",
     "text": [
      "Loss=1.063963770866394 Batch_id=390 Accuracy=67.97: 100%|██████████| 391/391 [00:14<00:00, 27.06it/s]\n",
      "  0%|          | 0/391 [00:00<?, ?it/s]"
     ]
    },
    {
     "name": "stdout",
     "output_type": "stream",
     "text": [
      "\n",
      "Test set: Average loss: 0.0051, Accuracy: 38581/50000 (77.16%)\n",
      "\n",
      "Epoch 18:\n"
     ]
    },
    {
     "name": "stderr",
     "output_type": "stream",
     "text": [
      "Loss=0.9841490983963013 Batch_id=390 Accuracy=68.45: 100%|██████████| 391/391 [00:14<00:00, 27.04it/s]\n",
      "  0%|          | 0/391 [00:00<?, ?it/s]"
     ]
    },
    {
     "name": "stdout",
     "output_type": "stream",
     "text": [
      "\n",
      "Test set: Average loss: 0.0050, Accuracy: 38995/50000 (77.99%)\n",
      "\n",
      "Epoch 19:\n"
     ]
    },
    {
     "name": "stderr",
     "output_type": "stream",
     "text": [
      "Loss=1.1272060871124268 Batch_id=390 Accuracy=68.94: 100%|██████████| 391/391 [00:14<00:00, 26.38it/s]\n",
      "  0%|          | 0/391 [00:00<?, ?it/s]"
     ]
    },
    {
     "name": "stdout",
     "output_type": "stream",
     "text": [
      "\n",
      "Test set: Average loss: 0.0048, Accuracy: 39219/50000 (78.44%)\n",
      "\n",
      "Epoch 20:\n"
     ]
    },
    {
     "name": "stderr",
     "output_type": "stream",
     "text": [
      "Loss=0.7084499597549438 Batch_id=390 Accuracy=69.71: 100%|██████████| 391/391 [00:14<00:00, 26.48it/s]\n",
      "  0%|          | 0/391 [00:00<?, ?it/s]"
     ]
    },
    {
     "name": "stdout",
     "output_type": "stream",
     "text": [
      "\n",
      "Test set: Average loss: 0.0042, Accuracy: 40560/50000 (81.12%)\n",
      "\n",
      "Epoch 21:\n"
     ]
    },
    {
     "name": "stderr",
     "output_type": "stream",
     "text": [
      "Loss=0.8015631437301636 Batch_id=390 Accuracy=69.76: 100%|██████████| 391/391 [00:14<00:00, 26.98it/s]\n",
      "  0%|          | 0/391 [00:00<?, ?it/s]"
     ]
    },
    {
     "name": "stdout",
     "output_type": "stream",
     "text": [
      "\n",
      "Test set: Average loss: 0.0044, Accuracy: 40110/50000 (80.22%)\n",
      "\n",
      "Epoch 22:\n"
     ]
    },
    {
     "name": "stderr",
     "output_type": "stream",
     "text": [
      "Loss=0.7645106911659241 Batch_id=390 Accuracy=70.35: 100%|██████████| 391/391 [00:14<00:00, 26.55it/s]\n",
      "  0%|          | 0/391 [00:00<?, ?it/s]"
     ]
    },
    {
     "name": "stdout",
     "output_type": "stream",
     "text": [
      "\n",
      "Test set: Average loss: 0.0042, Accuracy: 40653/50000 (81.31%)\n",
      "\n",
      "Epoch 23:\n"
     ]
    },
    {
     "name": "stderr",
     "output_type": "stream",
     "text": [
      "Loss=0.7866044640541077 Batch_id=390 Accuracy=70.89: 100%|██████████| 391/391 [00:14<00:00, 26.35it/s]\n",
      "  0%|          | 0/391 [00:00<?, ?it/s]"
     ]
    },
    {
     "name": "stdout",
     "output_type": "stream",
     "text": [
      "\n",
      "Test set: Average loss: 0.0042, Accuracy: 40856/50000 (81.71%)\n",
      "\n",
      "Epoch 24:\n"
     ]
    },
    {
     "name": "stderr",
     "output_type": "stream",
     "text": [
      "Loss=0.809195876121521 Batch_id=390 Accuracy=70.98: 100%|██████████| 391/391 [00:14<00:00, 26.32it/s]\n",
      "  0%|          | 0/391 [00:00<?, ?it/s]"
     ]
    },
    {
     "name": "stdout",
     "output_type": "stream",
     "text": [
      "\n",
      "Test set: Average loss: 0.0038, Accuracy: 41580/50000 (83.16%)\n",
      "\n",
      "Epoch 25:\n"
     ]
    },
    {
     "name": "stderr",
     "output_type": "stream",
     "text": [
      "Loss=0.8912637829780579 Batch_id=390 Accuracy=71.17: 100%|██████████| 391/391 [00:14<00:00, 26.60it/s]\n",
      "  0%|          | 0/391 [00:00<?, ?it/s]"
     ]
    },
    {
     "name": "stdout",
     "output_type": "stream",
     "text": [
      "\n",
      "Test set: Average loss: 0.0040, Accuracy: 41321/50000 (82.64%)\n",
      "\n",
      "Epoch 26:\n"
     ]
    },
    {
     "name": "stderr",
     "output_type": "stream",
     "text": [
      "Loss=0.893017590045929 Batch_id=390 Accuracy=71.56: 100%|██████████| 391/391 [00:14<00:00, 26.19it/s]\n",
      "  0%|          | 0/391 [00:00<?, ?it/s]"
     ]
    },
    {
     "name": "stdout",
     "output_type": "stream",
     "text": [
      "\n",
      "Test set: Average loss: 0.0037, Accuracy: 41669/50000 (83.34%)\n",
      "\n",
      "Epoch 27:\n"
     ]
    },
    {
     "name": "stderr",
     "output_type": "stream",
     "text": [
      "Loss=0.93833988904953 Batch_id=390 Accuracy=72.21: 100%|██████████| 391/391 [00:14<00:00, 26.28it/s]\n",
      "  0%|          | 0/391 [00:00<?, ?it/s]"
     ]
    },
    {
     "name": "stdout",
     "output_type": "stream",
     "text": [
      "\n",
      "Test set: Average loss: 0.0037, Accuracy: 41744/50000 (83.49%)\n",
      "\n",
      "Epoch 28:\n"
     ]
    },
    {
     "name": "stderr",
     "output_type": "stream",
     "text": [
      "Loss=0.6286603212356567 Batch_id=390 Accuracy=72.23: 100%|██████████| 391/391 [00:14<00:00, 26.38it/s]\n",
      "  0%|          | 0/391 [00:00<?, ?it/s]"
     ]
    },
    {
     "name": "stdout",
     "output_type": "stream",
     "text": [
      "\n",
      "Test set: Average loss: 0.0038, Accuracy: 41449/50000 (82.90%)\n",
      "\n",
      "Epoch 29:\n"
     ]
    },
    {
     "name": "stderr",
     "output_type": "stream",
     "text": [
      "Loss=0.9416089057922363 Batch_id=390 Accuracy=72.65: 100%|██████████| 391/391 [00:14<00:00, 26.49it/s]\n",
      "  0%|          | 0/391 [00:00<?, ?it/s]"
     ]
    },
    {
     "name": "stdout",
     "output_type": "stream",
     "text": [
      "\n",
      "Test set: Average loss: 0.0036, Accuracy: 41915/50000 (83.83%)\n",
      "\n",
      "Epoch 30:\n"
     ]
    },
    {
     "name": "stderr",
     "output_type": "stream",
     "text": [
      "Loss=0.6793246865272522 Batch_id=390 Accuracy=72.69: 100%|██████████| 391/391 [00:14<00:00, 27.17it/s]\n",
      "  0%|          | 0/391 [00:00<?, ?it/s]"
     ]
    },
    {
     "name": "stdout",
     "output_type": "stream",
     "text": [
      "\n",
      "Test set: Average loss: 0.0036, Accuracy: 42098/50000 (84.20%)\n",
      "\n",
      "Epoch 31:\n"
     ]
    },
    {
     "name": "stderr",
     "output_type": "stream",
     "text": [
      "Loss=1.0895979404449463 Batch_id=390 Accuracy=72.85: 100%|██████████| 391/391 [00:14<00:00, 26.42it/s]\n",
      "  0%|          | 0/391 [00:00<?, ?it/s]"
     ]
    },
    {
     "name": "stdout",
     "output_type": "stream",
     "text": [
      "\n",
      "Test set: Average loss: 0.0036, Accuracy: 41995/50000 (83.99%)\n",
      "\n",
      "Epoch 32:\n"
     ]
    },
    {
     "name": "stderr",
     "output_type": "stream",
     "text": [
      "Loss=0.9365921020507812 Batch_id=390 Accuracy=73.25: 100%|██████████| 391/391 [00:14<00:00, 26.57it/s]\n",
      "  0%|          | 0/391 [00:00<?, ?it/s]"
     ]
    },
    {
     "name": "stdout",
     "output_type": "stream",
     "text": [
      "\n",
      "Test set: Average loss: 0.0033, Accuracy: 42637/50000 (85.27%)\n",
      "\n",
      "Epoch 33:\n"
     ]
    },
    {
     "name": "stderr",
     "output_type": "stream",
     "text": [
      "Loss=0.7378602027893066 Batch_id=390 Accuracy=73.41: 100%|██████████| 391/391 [00:14<00:00, 27.19it/s]\n",
      "  0%|          | 0/391 [00:00<?, ?it/s]"
     ]
    },
    {
     "name": "stdout",
     "output_type": "stream",
     "text": [
      "\n",
      "Test set: Average loss: 0.0035, Accuracy: 42125/50000 (84.25%)\n",
      "\n",
      "Epoch 34:\n"
     ]
    },
    {
     "name": "stderr",
     "output_type": "stream",
     "text": [
      "Loss=0.802169919013977 Batch_id=390 Accuracy=73.72: 100%|██████████| 391/391 [00:14<00:00, 26.14it/s]\n",
      "  0%|          | 0/391 [00:00<?, ?it/s]"
     ]
    },
    {
     "name": "stdout",
     "output_type": "stream",
     "text": [
      "\n",
      "Test set: Average loss: 0.0033, Accuracy: 42767/50000 (85.53%)\n",
      "\n",
      "Epoch 35:\n"
     ]
    },
    {
     "name": "stderr",
     "output_type": "stream",
     "text": [
      "Loss=0.7683363556861877 Batch_id=390 Accuracy=74.17: 100%|██████████| 391/391 [00:14<00:00, 26.15it/s]\n",
      "  0%|          | 0/391 [00:00<?, ?it/s]"
     ]
    },
    {
     "name": "stdout",
     "output_type": "stream",
     "text": [
      "\n",
      "Test set: Average loss: 0.0031, Accuracy: 43051/50000 (86.10%)\n",
      "\n",
      "Epoch 36:\n"
     ]
    },
    {
     "name": "stderr",
     "output_type": "stream",
     "text": [
      "Loss=0.8062880635261536 Batch_id=390 Accuracy=74.72: 100%|██████████| 391/391 [00:14<00:00, 26.46it/s]\n",
      "  0%|          | 0/391 [00:00<?, ?it/s]"
     ]
    },
    {
     "name": "stdout",
     "output_type": "stream",
     "text": [
      "\n",
      "Test set: Average loss: 0.0032, Accuracy: 42749/50000 (85.50%)\n",
      "\n",
      "Epoch 37:\n"
     ]
    },
    {
     "name": "stderr",
     "output_type": "stream",
     "text": [
      "Loss=0.8149957656860352 Batch_id=390 Accuracy=74.32: 100%|██████████| 391/391 [00:14<00:00, 26.64it/s]\n",
      "  0%|          | 0/391 [00:00<?, ?it/s]"
     ]
    },
    {
     "name": "stdout",
     "output_type": "stream",
     "text": [
      "\n",
      "Test set: Average loss: 0.0030, Accuracy: 43359/50000 (86.72%)\n",
      "\n",
      "Epoch 38:\n"
     ]
    },
    {
     "name": "stderr",
     "output_type": "stream",
     "text": [
      "Loss=0.7171933650970459 Batch_id=390 Accuracy=74.69: 100%|██████████| 391/391 [00:15<00:00, 25.93it/s]\n",
      "  0%|          | 0/391 [00:00<?, ?it/s]"
     ]
    },
    {
     "name": "stdout",
     "output_type": "stream",
     "text": [
      "\n",
      "Test set: Average loss: 0.0029, Accuracy: 43576/50000 (87.15%)\n",
      "\n",
      "Epoch 39:\n"
     ]
    },
    {
     "name": "stderr",
     "output_type": "stream",
     "text": [
      "Loss=0.5604422092437744 Batch_id=390 Accuracy=75.13: 100%|██████████| 391/391 [00:15<00:00, 25.91it/s]\n",
      "  0%|          | 0/391 [00:00<?, ?it/s]"
     ]
    },
    {
     "name": "stdout",
     "output_type": "stream",
     "text": [
      "\n",
      "Test set: Average loss: 0.0029, Accuracy: 43550/50000 (87.10%)\n",
      "\n",
      "Epoch 40:\n"
     ]
    },
    {
     "name": "stderr",
     "output_type": "stream",
     "text": [
      "Loss=0.823570728302002 Batch_id=390 Accuracy=75.05: 100%|██████████| 391/391 [00:14<00:00, 26.29it/s]\n",
      "  0%|          | 0/391 [00:00<?, ?it/s]"
     ]
    },
    {
     "name": "stdout",
     "output_type": "stream",
     "text": [
      "\n",
      "Test set: Average loss: 0.0032, Accuracy: 42855/50000 (85.71%)\n",
      "\n",
      "Epoch 41:\n"
     ]
    },
    {
     "name": "stderr",
     "output_type": "stream",
     "text": [
      "Loss=0.6300328373908997 Batch_id=390 Accuracy=75.30: 100%|██████████| 391/391 [00:14<00:00, 26.22it/s]\n",
      "  0%|          | 0/391 [00:00<?, ?it/s]"
     ]
    },
    {
     "name": "stdout",
     "output_type": "stream",
     "text": [
      "\n",
      "Test set: Average loss: 0.0030, Accuracy: 43483/50000 (86.97%)\n",
      "\n",
      "Epoch 42:\n"
     ]
    },
    {
     "name": "stderr",
     "output_type": "stream",
     "text": [
      "Loss=0.7603219747543335 Batch_id=390 Accuracy=75.49: 100%|██████████| 391/391 [00:14<00:00, 26.17it/s]\n",
      "  0%|          | 0/391 [00:00<?, ?it/s]"
     ]
    },
    {
     "name": "stdout",
     "output_type": "stream",
     "text": [
      "\n",
      "Test set: Average loss: 0.0028, Accuracy: 43954/50000 (87.91%)\n",
      "\n",
      "Epoch 43:\n"
     ]
    },
    {
     "name": "stderr",
     "output_type": "stream",
     "text": [
      "Loss=0.4608677327632904 Batch_id=390 Accuracy=75.52: 100%|██████████| 391/391 [00:14<00:00, 26.38it/s]\n",
      "  0%|          | 0/391 [00:00<?, ?it/s]"
     ]
    },
    {
     "name": "stdout",
     "output_type": "stream",
     "text": [
      "\n",
      "Test set: Average loss: 0.0028, Accuracy: 43772/50000 (87.54%)\n",
      "\n",
      "Epoch 44:\n"
     ]
    },
    {
     "name": "stderr",
     "output_type": "stream",
     "text": [
      "Loss=0.9340268969535828 Batch_id=390 Accuracy=76.06: 100%|██████████| 391/391 [00:15<00:00, 25.90it/s]\n",
      "  0%|          | 0/391 [00:00<?, ?it/s]"
     ]
    },
    {
     "name": "stdout",
     "output_type": "stream",
     "text": [
      "\n",
      "Test set: Average loss: 0.0026, Accuracy: 44193/50000 (88.39%)\n",
      "\n",
      "Epoch 45:\n"
     ]
    },
    {
     "name": "stderr",
     "output_type": "stream",
     "text": [
      "Loss=0.6771047115325928 Batch_id=390 Accuracy=76.32: 100%|██████████| 391/391 [00:14<00:00, 26.12it/s]\n",
      "  0%|          | 0/391 [00:00<?, ?it/s]"
     ]
    },
    {
     "name": "stdout",
     "output_type": "stream",
     "text": [
      "\n",
      "Test set: Average loss: 0.0027, Accuracy: 44125/50000 (88.25%)\n",
      "\n",
      "Epoch 46:\n"
     ]
    },
    {
     "name": "stderr",
     "output_type": "stream",
     "text": [
      "Loss=0.7387124300003052 Batch_id=390 Accuracy=76.17: 100%|██████████| 391/391 [00:14<00:00, 26.18it/s]\n",
      "  0%|          | 0/391 [00:00<?, ?it/s]"
     ]
    },
    {
     "name": "stdout",
     "output_type": "stream",
     "text": [
      "\n",
      "Test set: Average loss: 0.0025, Accuracy: 44413/50000 (88.83%)\n",
      "\n",
      "Epoch 47:\n"
     ]
    },
    {
     "name": "stderr",
     "output_type": "stream",
     "text": [
      "Loss=0.4290551245212555 Batch_id=390 Accuracy=76.28: 100%|██████████| 391/391 [00:14<00:00, 26.27it/s]\n",
      "  0%|          | 0/391 [00:00<?, ?it/s]"
     ]
    },
    {
     "name": "stdout",
     "output_type": "stream",
     "text": [
      "\n",
      "Test set: Average loss: 0.0027, Accuracy: 43898/50000 (87.80%)\n",
      "\n",
      "Epoch 48:\n"
     ]
    },
    {
     "name": "stderr",
     "output_type": "stream",
     "text": [
      "Loss=0.825774073600769 Batch_id=390 Accuracy=76.81: 100%|██████████| 391/391 [00:14<00:00, 26.58it/s]\n",
      "  0%|          | 0/391 [00:00<?, ?it/s]"
     ]
    },
    {
     "name": "stdout",
     "output_type": "stream",
     "text": [
      "\n",
      "Test set: Average loss: 0.0026, Accuracy: 44387/50000 (88.77%)\n",
      "\n",
      "Epoch 49:\n"
     ]
    },
    {
     "name": "stderr",
     "output_type": "stream",
     "text": [
      "Loss=0.726393461227417 Batch_id=390 Accuracy=77.26: 100%|██████████| 391/391 [00:14<00:00, 26.43it/s]\n",
      "  0%|          | 0/391 [00:00<?, ?it/s]"
     ]
    },
    {
     "name": "stdout",
     "output_type": "stream",
     "text": [
      "\n",
      "Test set: Average loss: 0.0025, Accuracy: 44550/50000 (89.10%)\n",
      "\n",
      "Epoch 50:\n"
     ]
    },
    {
     "name": "stderr",
     "output_type": "stream",
     "text": [
      "Loss=0.8767334818840027 Batch_id=390 Accuracy=77.13: 100%|██████████| 391/391 [00:14<00:00, 26.27it/s]\n",
      "  0%|          | 0/391 [00:00<?, ?it/s]"
     ]
    },
    {
     "name": "stdout",
     "output_type": "stream",
     "text": [
      "\n",
      "Test set: Average loss: 0.0024, Accuracy: 44681/50000 (89.36%)\n",
      "\n",
      "Epoch 51:\n"
     ]
    },
    {
     "name": "stderr",
     "output_type": "stream",
     "text": [
      "Loss=0.6576653122901917 Batch_id=390 Accuracy=77.51: 100%|██████████| 391/391 [00:14<00:00, 26.17it/s]\n",
      "  0%|          | 0/391 [00:00<?, ?it/s]"
     ]
    },
    {
     "name": "stdout",
     "output_type": "stream",
     "text": [
      "\n",
      "Test set: Average loss: 0.0024, Accuracy: 44835/50000 (89.67%)\n",
      "\n",
      "Epoch 52:\n"
     ]
    },
    {
     "name": "stderr",
     "output_type": "stream",
     "text": [
      "Loss=0.7123035192489624 Batch_id=390 Accuracy=77.62: 100%|██████████| 391/391 [00:14<00:00, 26.16it/s]\n",
      "  0%|          | 0/391 [00:00<?, ?it/s]"
     ]
    },
    {
     "name": "stdout",
     "output_type": "stream",
     "text": [
      "\n",
      "Test set: Average loss: 0.0024, Accuracy: 44730/50000 (89.46%)\n",
      "\n",
      "Epoch 53:\n"
     ]
    },
    {
     "name": "stderr",
     "output_type": "stream",
     "text": [
      "Loss=0.6160961985588074 Batch_id=390 Accuracy=77.91: 100%|██████████| 391/391 [00:14<00:00, 26.30it/s]\n",
      "  0%|          | 0/391 [00:00<?, ?it/s]"
     ]
    },
    {
     "name": "stdout",
     "output_type": "stream",
     "text": [
      "\n",
      "Test set: Average loss: 0.0023, Accuracy: 44926/50000 (89.85%)\n",
      "\n",
      "Epoch 54:\n"
     ]
    },
    {
     "name": "stderr",
     "output_type": "stream",
     "text": [
      "Loss=0.528564989566803 Batch_id=390 Accuracy=78.14: 100%|██████████| 391/391 [00:14<00:00, 26.50it/s]\n",
      "  0%|          | 0/391 [00:00<?, ?it/s]"
     ]
    },
    {
     "name": "stdout",
     "output_type": "stream",
     "text": [
      "\n",
      "Test set: Average loss: 0.0023, Accuracy: 45039/50000 (90.08%)\n",
      "\n",
      "Epoch 55:\n"
     ]
    },
    {
     "name": "stderr",
     "output_type": "stream",
     "text": [
      "Loss=0.648318886756897 Batch_id=390 Accuracy=78.32: 100%|██████████| 391/391 [00:14<00:00, 26.35it/s]\n",
      "  0%|          | 0/391 [00:00<?, ?it/s]"
     ]
    },
    {
     "name": "stdout",
     "output_type": "stream",
     "text": [
      "\n",
      "Test set: Average loss: 0.0022, Accuracy: 45133/50000 (90.27%)\n",
      "\n",
      "Epoch 56:\n"
     ]
    },
    {
     "name": "stderr",
     "output_type": "stream",
     "text": [
      "Loss=0.5499426126480103 Batch_id=390 Accuracy=78.18: 100%|██████████| 391/391 [00:14<00:00, 26.90it/s]\n",
      "  0%|          | 0/391 [00:00<?, ?it/s]"
     ]
    },
    {
     "name": "stdout",
     "output_type": "stream",
     "text": [
      "\n",
      "Test set: Average loss: 0.0022, Accuracy: 45089/50000 (90.18%)\n",
      "\n",
      "Epoch 57:\n"
     ]
    },
    {
     "name": "stderr",
     "output_type": "stream",
     "text": [
      "Loss=0.45561447739601135 Batch_id=390 Accuracy=78.54: 100%|██████████| 391/391 [00:14<00:00, 26.07it/s]\n",
      "  0%|          | 0/391 [00:00<?, ?it/s]"
     ]
    },
    {
     "name": "stdout",
     "output_type": "stream",
     "text": [
      "\n",
      "Test set: Average loss: 0.0022, Accuracy: 45205/50000 (90.41%)\n",
      "\n",
      "Epoch 58:\n"
     ]
    },
    {
     "name": "stderr",
     "output_type": "stream",
     "text": [
      "Loss=0.582534670829773 Batch_id=390 Accuracy=78.44: 100%|██████████| 391/391 [00:14<00:00, 26.74it/s]\n",
      "  0%|          | 0/391 [00:00<?, ?it/s]"
     ]
    },
    {
     "name": "stdout",
     "output_type": "stream",
     "text": [
      "\n",
      "Test set: Average loss: 0.0022, Accuracy: 45238/50000 (90.48%)\n",
      "\n",
      "Epoch 59:\n"
     ]
    },
    {
     "name": "stderr",
     "output_type": "stream",
     "text": [
      "Loss=0.5326922535896301 Batch_id=390 Accuracy=78.59: 100%|██████████| 391/391 [00:14<00:00, 26.38it/s]\n",
      "  0%|          | 0/391 [00:00<?, ?it/s]"
     ]
    },
    {
     "name": "stdout",
     "output_type": "stream",
     "text": [
      "\n",
      "Test set: Average loss: 0.0022, Accuracy: 45234/50000 (90.47%)\n",
      "\n",
      "Epoch 60:\n"
     ]
    },
    {
     "name": "stderr",
     "output_type": "stream",
     "text": [
      "Loss=0.5246990919113159 Batch_id=390 Accuracy=78.87: 100%|██████████| 391/391 [00:15<00:00, 26.00it/s]\n"
     ]
    },
    {
     "name": "stdout",
     "output_type": "stream",
     "text": [
      "\n",
      "Test set: Average loss: 0.0022, Accuracy: 45224/50000 (90.45%)\n",
      "\n"
     ]
    }
   ],
   "source": [
    "dropout=0.01\n",
    "epochs=60\n",
    "\n",
    "criterion = nn.CrossEntropyLoss() \n",
    "\n",
    "train_losses = []\n",
    "test_losses = []\n",
    "train_accuracy = []\n",
    "test_accuracy = []\n",
    "    \n",
    "model = Net().to(device)\n",
    "optimizer = optim.SGD(model.parameters(), lr=0.015, momentum=0.9)\n",
    "scheduler = OneCycleLR(optimizer, max_lr=0.015, epochs=60, steps_per_epoch=len(train_loader))\n",
    "\n",
    "for epoch in range(1, epochs + 1):\n",
    "    print(f'Epoch {epoch}:')\n",
    "    train_acc, train_loss = train(model, device, train_loader, optimizer,epoch,scheduler,criterion)\n",
    "    train_accuracy.append(train_acc)\n",
    "    train_losses.append(train_loss)\n",
    "\n",
    "    test_acc, test_loss = test(model, device, test_loader,criterion)\n",
    "    test_accuracy.append(test_acc)\n",
    "    test_losses.append(test_loss)"
   ]
  },
  {
   "cell_type": "markdown",
   "metadata": {
    "id": "pYBgQj4Iiacq"
   },
   "source": [
    "### **Train, Validation Loss and Accuracy Plots**"
   ]
  },
  {
   "cell_type": "code",
   "execution_count": 20,
   "metadata": {
    "colab": {
     "base_uri": "https://localhost:8080/",
     "height": 644
    },
    "id": "9OIPpqUOSc8n",
    "outputId": "cc9d252d-8528-4d24-f6d9-6d7ee42ea788"
   },
   "outputs": [
    {
     "data": {
      "image/png": "[encoded data removed]",
      "text/plain": [
       "<Figure size 1440x720 with 2 Axes>"
      ]
     },
     "metadata": {
      "tags": []
     },
     "output_type": "display_data"
    }
   ],
   "source": [
    "import seaborn as sns\n",
    "\n",
    "sns.set(style='whitegrid')  \n",
    "sns.set(font_scale=1.5)\n",
    "plt.rcParams[\"figure.figsize\"] = (20,10)\n",
    "\n",
    "# Plot the learning curve.\n",
    "fig, (plt1,plt2) = plt.subplots(1,2)\n",
    "plt1.plot(np.array([x/1000 for x in train_losses ]), 'r', label=\"Training Loss\")\n",
    "plt1.plot(np.array(test_losses), 'b', label=\"Validation Loss\")\n",
    "plt2.plot(np.array(train_accuracy), 'r', label=\"Training Accuracy\")\n",
    "plt2.plot(np.array(test_accuracy), 'b', label=\"Validation Accuracy\")\n",
    "\n",
    "plt2.set_title(\"Training-Validation Accuracy Curve\")\n",
    "plt2.set_xlabel(\"Epoch\")\n",
    "plt2.set_ylabel(\"Accuracy\")\n",
    "plt2.legend()\n",
    "plt1.set_title(\"Training-Validation Loss Curve\")\n",
    "plt1.set_xlabel(\"Epoch\")\n",
    "plt1.set_ylabel(\"Loss\")\n",
    "plt1.legend()\n",
    "\n",
    "plt.show()"
   ]
  },
  {
   "cell_type": "markdown",
   "metadata": {
    "id": "51ooLT5Nio7m"
   },
   "source": [
    "### **Class Wise Performance**"
   ]
  },
  {
   "cell_type": "code",
   "execution_count": 21,
   "metadata": {
    "colab": {
     "base_uri": "https://localhost:8080/"
    },
    "id": "728_O0-Oa5E9",
    "outputId": "3aec26a2-c09f-4562-d858-51251d443227"
   },
   "outputs": [
    {
     "name": "stdout",
     "output_type": "stream",
     "text": [
      "Accuracy of plane : 91 %\n",
      "Accuracy of   car : 96 %\n",
      "Accuracy of  bird : 85 %\n",
      "Accuracy of   cat : 77 %\n",
      "Accuracy of  deer : 88 %\n",
      "Accuracy of   dog : 82 %\n",
      "Accuracy of  frog : 89 %\n",
      "Accuracy of horse : 91 %\n",
      "Accuracy of  ship : 99 %\n",
      "Accuracy of truck : 95 %\n"
     ]
    }
   ],
   "source": [
    "classes = ('plane', 'car', 'bird', 'cat',\n",
    "           'deer', 'dog', 'frog', 'horse', 'ship', 'truck')\n",
    "class_correct = list(0. for i in range(10))\n",
    "class_total = list(0. for i in range(10))\n",
    "with torch.no_grad():\n",
    "    for data in test_loader:\n",
    "        images, labels = data\n",
    "        images = images[\"image\"].to(device)\n",
    "        labels = labels.to(device)\n",
    "        outputs = model(images)\n",
    "        _, predicted = torch.max(outputs, 1)\n",
    "        c = (predicted == labels).squeeze()\n",
    "        for i in range(4):\n",
    "            label = labels[i]\n",
    "            class_correct[label] += c[i].item()\n",
    "            class_total[label] += 1\n",
    "\n",
    "\n",
    "for i in range(10):\n",
    "    print('Accuracy of %5s : %2d %%' % (\n",
    "        classes[i], 100 * class_correct[i] / class_total[i]))"
   ]
  },
  {
   "cell_type": "code",
   "execution_count": 23,
   "metadata": {
    "id": "PJ_PGm71nZl2"
   },
   "outputs": [],
   "source": []
  }
 ],
 "metadata": {
  "accelerator": "GPU",
  "colab": {
   "collapsed_sections": [],
   "name": "Assignment7_Detailed_Single_Notebook.ipynb",
   "provenance": []
  },
  "kernelspec": {
   "display_name": "Python 3",
   "language": "python",
   "name": "python3"
  },
  "language_info": {
   "codemirror_mode": {
    "name": "ipython",
    "version": 3
   },
   "file_extension": ".py",
   "mimetype": "text/x-python",
   "name": "python",
   "nbconvert_exporter": "python",
   "pygments_lexer": "ipython3",
   "version": "3.6.11"
  }
 },
 "nbformat": 4,
 "nbformat_minor": 1
}
