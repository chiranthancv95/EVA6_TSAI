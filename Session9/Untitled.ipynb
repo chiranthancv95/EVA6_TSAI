{
 "cells": [
  {
   "cell_type": "code",
   "execution_count": 5,
   "metadata": {},
   "outputs": [],
   "source": [
    "from __future__ import print_function\n",
    "import torch\n",
    "import torch.nn as nn\n",
    "import torch.nn.functional as F\n",
    "import torch.optim as optim\n",
    "from torchvision import datasets, transforms\n",
    "\n",
    "from torchsummary import summary\n",
    "from torchscan import summary\n",
    "\n",
    "# Let's visualize some of the images\n",
    "#%matplotlib inline\n",
    "import matplotlib.pyplot as plt\n",
    "import argparse\n",
    "\n",
    "from torch.optim.lr_scheduler import StepLR,OneCycleLR\n",
    "\n",
    "from train import *\n",
    "from test import *\n",
    "#from model import *\n",
    "from plotter import *\n",
    "from data import *\n",
    "# from model_group_norm import *\n",
    "# from model_layer_norm import *\n",
    "\n",
    "#from parser_args import norm, epochs\n",
    "from custom_resnet import *"
   ]
  },
  {
   "cell_type": "code",
   "execution_count": null,
   "metadata": {},
   "outputs": [],
   "source": []
  }
 ],
 "metadata": {
  "kernelspec": {
   "display_name": "Python [conda env:pytorch_p36] *",
   "language": "python",
   "name": "conda-env-pytorch_p36-py"
  },
  "language_info": {
   "codemirror_mode": {
    "name": "ipython",
    "version": 3
   },
   "file_extension": ".py",
   "mimetype": "text/x-python",
   "name": "python",
   "nbconvert_exporter": "python",
   "pygments_lexer": "ipython3",
   "version": "3.6.11"
  }
 },
 "nbformat": 4,
 "nbformat_minor": 4
}
