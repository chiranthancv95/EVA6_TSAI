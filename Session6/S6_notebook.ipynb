{
 "cells": [
  {
   "cell_type": "code",
   "execution_count": null,
   "metadata": {
    "scrolled": true
   },
   "outputs": [],
   "source": [
    "'''\n",
    "Change your code in such a way that all of these are in their respective files:\n",
    "model\n",
    "training code\n",
    "testing code\n",
    "regularization techniques (dropout, L1, L2, etc)\n",
    "dataloader/transformations/image-augmentations\n",
    "misc items like finding misclassified images\n",
    "'''"
   ]
  },
  {
   "cell_type": "code",
   "execution_count": null,
   "metadata": {},
   "outputs": [],
   "source": []
  },
  {
   "cell_type": "code",
   "execution_count": 1,
   "metadata": {},
   "outputs": [],
   "source": [
    "from __future__ import print_function\n",
    "import torch\n",
    "import torch.nn as nn\n",
    "import torch.nn.functional as F\n",
    "import torch.optim as optim\n",
    "from torchvision import datasets, transforms\n",
    "\n",
    "from torchsummary import summary\n",
    "\n",
    "# Let's visualize some of the images\n",
    "#%matplotlib inline\n",
    "import matplotlib.pyplot as plt\n",
    "import argparse\n",
    "\n",
    "from torch.optim.lr_scheduler import StepLR,OneCycleLR\n",
    "\n",
    "from train import *\n",
    "from test import *\n",
    "from model import *\n",
    "from plotter import *\n",
    "from data import *\n",
    "# from model_group_norm import *\n",
    "# from model_layer_norm import *\n",
    "\n",
    "#from parser_args import norm, epochs"
   ]
  },
  {
   "cell_type": "code",
   "execution_count": 2,
   "metadata": {},
   "outputs": [],
   "source": [
    "norm='bn'\n",
    "epochs=25"
   ]
  },
  {
   "cell_type": "code",
   "execution_count": 3,
   "metadata": {},
   "outputs": [
    {
     "name": "stdout",
     "output_type": "stream",
     "text": [
      "CUDA Available? True\n"
     ]
    }
   ],
   "source": [
    "SEED = 1\n",
    "\n",
    "# CUDA?\n",
    "cuda = torch.cuda.is_available()\n",
    "print(\"CUDA Available?\", cuda)\n",
    "\n",
    "# For reproducibility\n",
    "torch.manual_seed(SEED)\n",
    "\n",
    "if cuda:\n",
    "    torch.cuda.manual_seed(SEED)\n",
    "\n",
    "\n",
    "\n",
    "# train dataloader\n",
    "train_loader = load_train()\n",
    "\n",
    "# test dataloader\n",
    "test_loader = load_test()"
   ]
  },
  {
   "cell_type": "code",
   "execution_count": 4,
   "metadata": {},
   "outputs": [
    {
     "name": "stdout",
     "output_type": "stream",
     "text": [
      "Using:  cuda\n",
      "Loading Batchnorm Model\n",
      "----------------------------------------------------------------\n",
      "        Layer (type)               Output Shape         Param #\n",
      "================================================================\n",
      "            Conv2d-1            [-1, 8, 26, 26]              72\n",
      "              ReLU-2            [-1, 8, 26, 26]               0\n",
      "           Dropout-3            [-1, 8, 26, 26]               0\n",
      "            Conv2d-4           [-1, 16, 24, 24]           1,152\n",
      "              ReLU-5           [-1, 16, 24, 24]               0\n",
      "       BatchNorm2d-6           [-1, 16, 24, 24]              32\n",
      "           Dropout-7           [-1, 16, 24, 24]               0\n",
      "         MaxPool2d-8           [-1, 16, 12, 12]               0\n",
      "            Conv2d-9            [-1, 8, 12, 12]             128\n",
      "           Conv2d-10           [-1, 10, 10, 10]             720\n",
      "             ReLU-11           [-1, 10, 10, 10]               0\n",
      "      BatchNorm2d-12           [-1, 10, 10, 10]              20\n",
      "          Dropout-13           [-1, 10, 10, 10]               0\n",
      "           Conv2d-14             [-1, 16, 8, 8]           1,440\n",
      "             ReLU-15             [-1, 16, 8, 8]               0\n",
      "      BatchNorm2d-16             [-1, 16, 8, 8]              32\n",
      "          Dropout-17             [-1, 16, 8, 8]               0\n",
      "           Conv2d-18             [-1, 18, 6, 6]           2,592\n",
      "             ReLU-19             [-1, 18, 6, 6]               0\n",
      "      BatchNorm2d-20             [-1, 18, 6, 6]              36\n",
      "          Dropout-21             [-1, 18, 6, 6]               0\n",
      "        AvgPool2d-22             [-1, 18, 1, 1]               0\n",
      "           Conv2d-23             [-1, 16, 1, 1]             288\n",
      "             ReLU-24             [-1, 16, 1, 1]               0\n",
      "      BatchNorm2d-25             [-1, 16, 1, 1]              32\n",
      "          Dropout-26             [-1, 16, 1, 1]               0\n",
      "           Conv2d-27             [-1, 10, 1, 1]             160\n",
      "================================================================\n",
      "Total params: 6,704\n",
      "Trainable params: 6,704\n",
      "Non-trainable params: 0\n",
      "----------------------------------------------------------------\n",
      "Input size (MB): 0.00\n",
      "Forward/backward pass size (MB): 0.51\n",
      "Params size (MB): 0.03\n",
      "Estimated Total Size (MB): 0.54\n",
      "----------------------------------------------------------------\n"
     ]
    }
   ],
   "source": [
    "# Printing the summary of the model\n",
    "use_cuda = torch.cuda.is_available()\n",
    "device = torch.device(\"cuda\" if use_cuda else \"cpu\")\n",
    "print(\"Using: \",device)\n",
    "\n",
    "if norm == 'bn':\n",
    "\tprint(\"Loading Batchnorm Model\")\n",
    "\tmodel = Net().to(device)\n",
    "elif norm == 'group':\n",
    "\tprint(\"Loading Group Model\")\n",
    "\tmodel = Net_group_norm().to(device)\n",
    "\n",
    "elif norm == 'layer':\n",
    "\tprint(\"Loading layer Model\")\n",
    "\tmodel = Net_layer_norm().to(device)\n",
    "\n",
    "#model = Net().to(device)\n",
    "#model = Net_group_norm().to(device)\n",
    "#model = Net_layer_norm().to(device)\n",
    "\n",
    "model.apply(weights_init)\n",
    "summary(model, input_size=(1, 28, 28))\n"
   ]
  },
  {
   "cell_type": "code",
   "execution_count": 5,
   "metadata": {},
   "outputs": [
    {
     "name": "stderr",
     "output_type": "stream",
     "text": [
      "\r",
      "  0%|          | 0/469 [00:00<?, ?it/s]"
     ]
    },
    {
     "name": "stdout",
     "output_type": "stream",
     "text": [
      "EPOCH: 1\n"
     ]
    },
    {
     "name": "stderr",
     "output_type": "stream",
     "text": [
      "Loss=13.369365692138672 Batch_id=0 Accuracy=9.38:   0%|          | 0/469 [00:00<?, ?it/s]\n",
      "  0%|          | 0/469 [00:00<?, ?it/s]"
     ]
    },
    {
     "name": "stdout",
     "output_type": "stream",
     "text": [
      "\n",
      "Test set: Average loss: 2.5878, Accuracy: 985/10000 (9.85%)\n",
      "\n",
      "EPOCH: 2\n"
     ]
    },
    {
     "name": "stderr",
     "output_type": "stream",
     "text": [
      "Loss=13.329697608947754 Batch_id=0 Accuracy=4.69:   0%|          | 0/469 [00:00<?, ?it/s]\n",
      "  0%|          | 0/469 [00:00<?, ?it/s]"
     ]
    },
    {
     "name": "stdout",
     "output_type": "stream",
     "text": [
      "\n",
      "Test set: Average loss: 2.4938, Accuracy: 936/10000 (9.36%)\n",
      "\n",
      "EPOCH: 3\n"
     ]
    },
    {
     "name": "stderr",
     "output_type": "stream",
     "text": [
      "Loss=13.102058410644531 Batch_id=0 Accuracy=12.50:   0%|          | 0/469 [00:00<?, ?it/s]\n",
      "  0%|          | 0/469 [00:00<?, ?it/s]"
     ]
    },
    {
     "name": "stdout",
     "output_type": "stream",
     "text": [
      "\n",
      "Test set: Average loss: 2.4394, Accuracy: 945/10000 (9.45%)\n",
      "\n",
      "EPOCH: 4\n"
     ]
    },
    {
     "name": "stderr",
     "output_type": "stream",
     "text": [
      "Loss=13.30330753326416 Batch_id=0 Accuracy=8.59:   0%|          | 0/469 [00:00<?, ?it/s]\n",
      "  0%|          | 0/469 [00:00<?, ?it/s]"
     ]
    },
    {
     "name": "stdout",
     "output_type": "stream",
     "text": [
      "\n",
      "Test set: Average loss: 2.4073, Accuracy: 984/10000 (9.84%)\n",
      "\n",
      "EPOCH: 5\n"
     ]
    },
    {
     "name": "stderr",
     "output_type": "stream",
     "text": [
      "Loss=13.305551528930664 Batch_id=0 Accuracy=3.91:   0%|          | 0/469 [00:00<?, ?it/s]\n",
      "  0%|          | 0/469 [00:00<?, ?it/s]"
     ]
    },
    {
     "name": "stdout",
     "output_type": "stream",
     "text": [
      "\n",
      "Test set: Average loss: 2.3876, Accuracy: 854/10000 (8.54%)\n",
      "\n",
      "EPOCH: 6\n"
     ]
    },
    {
     "name": "stderr",
     "output_type": "stream",
     "text": [
      "Loss=13.123869895935059 Batch_id=0 Accuracy=8.59:   0%|          | 0/469 [00:00<?, ?it/s]\n",
      "  0%|          | 0/469 [00:00<?, ?it/s]"
     ]
    },
    {
     "name": "stdout",
     "output_type": "stream",
     "text": [
      "\n",
      "Test set: Average loss: 2.3776, Accuracy: 732/10000 (7.32%)\n",
      "\n",
      "EPOCH: 7\n"
     ]
    },
    {
     "name": "stderr",
     "output_type": "stream",
     "text": [
      "Loss=13.180496215820312 Batch_id=0 Accuracy=7.81:   0%|          | 0/469 [00:00<?, ?it/s]\n",
      "  0%|          | 0/469 [00:00<?, ?it/s]"
     ]
    },
    {
     "name": "stdout",
     "output_type": "stream",
     "text": [
      "\n",
      "Test set: Average loss: 2.3726, Accuracy: 653/10000 (6.53%)\n",
      "\n",
      "EPOCH: 8\n"
     ]
    },
    {
     "name": "stderr",
     "output_type": "stream",
     "text": [
      "Loss=13.053777694702148 Batch_id=0 Accuracy=13.28:   0%|          | 0/469 [00:00<?, ?it/s]\n",
      "  0%|          | 0/469 [00:00<?, ?it/s]"
     ]
    },
    {
     "name": "stdout",
     "output_type": "stream",
     "text": [
      "\n",
      "Test set: Average loss: 2.3716, Accuracy: 626/10000 (6.26%)\n",
      "\n",
      "EPOCH: 9\n"
     ]
    },
    {
     "name": "stderr",
     "output_type": "stream",
     "text": [
      "Loss=13.52599811553955 Batch_id=0 Accuracy=9.38:   0%|          | 0/469 [00:00<?, ?it/s]\n",
      "  0%|          | 0/469 [00:00<?, ?it/s]"
     ]
    },
    {
     "name": "stdout",
     "output_type": "stream",
     "text": [
      "\n",
      "Test set: Average loss: 2.3728, Accuracy: 600/10000 (6.00%)\n",
      "\n",
      "EPOCH: 10\n"
     ]
    },
    {
     "name": "stderr",
     "output_type": "stream",
     "text": [
      "Loss=13.415253639221191 Batch_id=0 Accuracy=7.81:   0%|          | 0/469 [00:00<?, ?it/s]\n",
      "  0%|          | 0/469 [00:00<?, ?it/s]"
     ]
    },
    {
     "name": "stdout",
     "output_type": "stream",
     "text": [
      "\n",
      "Test set: Average loss: 2.3756, Accuracy: 600/10000 (6.00%)\n",
      "\n",
      "EPOCH: 11\n"
     ]
    },
    {
     "name": "stderr",
     "output_type": "stream",
     "text": [
      "Loss=13.293859481811523 Batch_id=0 Accuracy=8.59:   0%|          | 0/469 [00:00<?, ?it/s]\n",
      "  0%|          | 0/469 [00:00<?, ?it/s]"
     ]
    },
    {
     "name": "stdout",
     "output_type": "stream",
     "text": [
      "\n",
      "Test set: Average loss: 2.3803, Accuracy: 571/10000 (5.71%)\n",
      "\n",
      "EPOCH: 12\n"
     ]
    },
    {
     "name": "stderr",
     "output_type": "stream",
     "text": [
      "Loss=13.03773021697998 Batch_id=0 Accuracy=9.38:   0%|          | 0/469 [00:00<?, ?it/s]\n",
      "  0%|          | 0/469 [00:00<?, ?it/s]"
     ]
    },
    {
     "name": "stdout",
     "output_type": "stream",
     "text": [
      "\n",
      "Test set: Average loss: 2.3859, Accuracy: 614/10000 (6.14%)\n",
      "\n",
      "EPOCH: 13\n"
     ]
    },
    {
     "name": "stderr",
     "output_type": "stream",
     "text": [
      "Loss=13.047112464904785 Batch_id=0 Accuracy=11.72:   0%|          | 0/469 [00:00<?, ?it/s]\n",
      "  0%|          | 0/469 [00:00<?, ?it/s]"
     ]
    },
    {
     "name": "stdout",
     "output_type": "stream",
     "text": [
      "\n",
      "Test set: Average loss: 2.3932, Accuracy: 662/10000 (6.62%)\n",
      "\n",
      "EPOCH: 14\n"
     ]
    },
    {
     "name": "stderr",
     "output_type": "stream",
     "text": [
      "Loss=13.297542572021484 Batch_id=0 Accuracy=8.59:   0%|          | 0/469 [00:00<?, ?it/s]\n",
      "  0%|          | 0/469 [00:00<?, ?it/s]"
     ]
    },
    {
     "name": "stdout",
     "output_type": "stream",
     "text": [
      "\n",
      "Test set: Average loss: 2.4011, Accuracy: 667/10000 (6.67%)\n",
      "\n",
      "EPOCH: 15\n"
     ]
    },
    {
     "name": "stderr",
     "output_type": "stream",
     "text": [
      "Loss=13.302099227905273 Batch_id=0 Accuracy=2.34:   0%|          | 0/469 [00:00<?, ?it/s]\n",
      "  0%|          | 0/469 [00:00<?, ?it/s]"
     ]
    },
    {
     "name": "stdout",
     "output_type": "stream",
     "text": [
      "\n",
      "Test set: Average loss: 2.4093, Accuracy: 697/10000 (6.97%)\n",
      "\n",
      "EPOCH: 16\n"
     ]
    },
    {
     "name": "stderr",
     "output_type": "stream",
     "text": [
      "Loss=12.962848663330078 Batch_id=0 Accuracy=7.81:   0%|          | 0/469 [00:00<?, ?it/s]\n",
      "  0%|          | 0/469 [00:00<?, ?it/s]"
     ]
    },
    {
     "name": "stdout",
     "output_type": "stream",
     "text": [
      "\n",
      "Test set: Average loss: 2.4176, Accuracy: 713/10000 (7.13%)\n",
      "\n",
      "EPOCH: 17\n"
     ]
    },
    {
     "name": "stderr",
     "output_type": "stream",
     "text": [
      "Loss=13.14380931854248 Batch_id=0 Accuracy=13.28:   0%|          | 0/469 [00:00<?, ?it/s]\n",
      "  0%|          | 0/469 [00:00<?, ?it/s]"
     ]
    },
    {
     "name": "stdout",
     "output_type": "stream",
     "text": [
      "\n",
      "Test set: Average loss: 2.4267, Accuracy: 760/10000 (7.60%)\n",
      "\n",
      "EPOCH: 18\n"
     ]
    },
    {
     "name": "stderr",
     "output_type": "stream",
     "text": [
      "Loss=13.103028297424316 Batch_id=0 Accuracy=10.94:   0%|          | 0/469 [00:00<?, ?it/s]\n",
      "  0%|          | 0/469 [00:00<?, ?it/s]"
     ]
    },
    {
     "name": "stdout",
     "output_type": "stream",
     "text": [
      "\n",
      "Test set: Average loss: 2.4342, Accuracy: 789/10000 (7.89%)\n",
      "\n",
      "EPOCH: 19\n"
     ]
    },
    {
     "name": "stderr",
     "output_type": "stream",
     "text": [
      "Loss=13.27099609375 Batch_id=0 Accuracy=9.38:   0%|          | 0/469 [00:00<?, ?it/s]\n",
      "  0%|          | 0/469 [00:00<?, ?it/s]"
     ]
    },
    {
     "name": "stdout",
     "output_type": "stream",
     "text": [
      "\n",
      "Test set: Average loss: 2.4449, Accuracy: 809/10000 (8.09%)\n",
      "\n",
      "EPOCH: 20\n"
     ]
    },
    {
     "name": "stderr",
     "output_type": "stream",
     "text": [
      "Loss=13.125944137573242 Batch_id=0 Accuracy=7.03:   0%|          | 0/469 [00:00<?, ?it/s]\n",
      "  0%|          | 0/469 [00:00<?, ?it/s]"
     ]
    },
    {
     "name": "stdout",
     "output_type": "stream",
     "text": [
      "\n",
      "Test set: Average loss: 2.4553, Accuracy: 830/10000 (8.30%)\n",
      "\n",
      "EPOCH: 21\n"
     ]
    },
    {
     "name": "stderr",
     "output_type": "stream",
     "text": [
      "Loss=13.291780471801758 Batch_id=0 Accuracy=10.16:   0%|          | 0/469 [00:00<?, ?it/s]\n",
      "  0%|          | 0/469 [00:00<?, ?it/s]"
     ]
    },
    {
     "name": "stdout",
     "output_type": "stream",
     "text": [
      "\n",
      "Test set: Average loss: 2.4652, Accuracy: 851/10000 (8.51%)\n",
      "\n",
      "EPOCH: 22\n"
     ]
    },
    {
     "name": "stderr",
     "output_type": "stream",
     "text": [
      "Loss=13.27049446105957 Batch_id=0 Accuracy=10.16:   0%|          | 0/469 [00:00<?, ?it/s]\n",
      "  0%|          | 0/469 [00:00<?, ?it/s]"
     ]
    },
    {
     "name": "stdout",
     "output_type": "stream",
     "text": [
      "\n",
      "Test set: Average loss: 2.4774, Accuracy: 893/10000 (8.93%)\n",
      "\n",
      "EPOCH: 23\n"
     ]
    },
    {
     "name": "stderr",
     "output_type": "stream",
     "text": [
      "Loss=13.178642272949219 Batch_id=0 Accuracy=11.72:   0%|          | 0/469 [00:00<?, ?it/s]\n",
      "  0%|          | 0/469 [00:00<?, ?it/s]"
     ]
    },
    {
     "name": "stdout",
     "output_type": "stream",
     "text": [
      "\n",
      "Test set: Average loss: 2.4899, Accuracy: 906/10000 (9.06%)\n",
      "\n",
      "EPOCH: 24\n"
     ]
    },
    {
     "name": "stderr",
     "output_type": "stream",
     "text": [
      "Loss=13.291738510131836 Batch_id=0 Accuracy=10.16:   0%|          | 0/469 [00:00<?, ?it/s]\n",
      "  0%|          | 0/469 [00:00<?, ?it/s]"
     ]
    },
    {
     "name": "stdout",
     "output_type": "stream",
     "text": [
      "\n",
      "Test set: Average loss: 2.5010, Accuracy: 923/10000 (9.23%)\n",
      "\n",
      "EPOCH: 25\n"
     ]
    },
    {
     "name": "stderr",
     "output_type": "stream",
     "text": [
      "Loss=13.105228424072266 Batch_id=0 Accuracy=9.38:   0%|          | 0/469 [00:00<?, ?it/s]\n"
     ]
    },
    {
     "name": "stdout",
     "output_type": "stream",
     "text": [
      "\n",
      "Test set: Average loss: 2.5147, Accuracy: 932/10000 (9.32%)\n",
      "\n"
     ]
    }
   ],
   "source": [
    "optimizer = optim.SGD(model.parameters(), lr=0.01, momentum=0.9)\n",
    "\n",
    "scheduler = OneCycleLR(optimizer, max_lr=0.020,epochs=epochs,steps_per_epoch=len(train_loader))\n",
    "\n",
    "\n",
    "for epoch in range(epochs):\n",
    "    print(\"EPOCH:\", epoch+1)\n",
    "    bn_train_losses, bn_train_acc = train(model, device, train_loader, optimizer, epoch)\n",
    "    bn_test_losses, bn_test_acc = test(model, device, test_loader)"
   ]
  },
  {
   "cell_type": "code",
   "execution_count": null,
   "metadata": {},
   "outputs": [],
   "source": []
  },
  {
   "cell_type": "code",
   "execution_count": null,
   "metadata": {},
   "outputs": [],
   "source": []
  },
  {
   "cell_type": "code",
   "execution_count": null,
   "metadata": {},
   "outputs": [],
   "source": []
  },
  {
   "cell_type": "code",
   "execution_count": null,
   "metadata": {},
   "outputs": [],
   "source": []
  },
  {
   "cell_type": "code",
   "execution_count": null,
   "metadata": {},
   "outputs": [],
   "source": []
  },
  {
   "cell_type": "code",
   "execution_count": null,
   "metadata": {},
   "outputs": [],
   "source": []
  },
  {
   "cell_type": "code",
   "execution_count": null,
   "metadata": {},
   "outputs": [],
   "source": []
  },
  {
   "cell_type": "code",
   "execution_count": null,
   "metadata": {},
   "outputs": [],
   "source": []
  }
 ],
 "metadata": {
  "kernelspec": {
   "display_name": "Python [conda env:pytorch_p36] *",
   "language": "python",
   "name": "conda-env-pytorch_p36-py"
  },
  "language_info": {
   "codemirror_mode": {
    "name": "ipython",
    "version": 3
   },
   "file_extension": ".py",
   "mimetype": "text/x-python",
   "name": "python",
   "nbconvert_exporter": "python",
   "pygments_lexer": "ipython3",
   "version": "3.6.11"
  }
 },
 "nbformat": 4,
 "nbformat_minor": 4
}
