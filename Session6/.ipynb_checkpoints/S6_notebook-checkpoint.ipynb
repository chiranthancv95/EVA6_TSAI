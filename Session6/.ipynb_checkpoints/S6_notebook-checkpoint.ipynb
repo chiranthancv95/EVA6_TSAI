{
 "cells": [
  {
   "cell_type": "code",
   "execution_count": null,
   "metadata": {
    "scrolled": true
   },
   "outputs": [],
   "source": [
    "'''\n",
    "Change your code in such a way that all of these are in their respective files:\n",
    "model\n",
    "training code\n",
    "testing code\n",
    "regularization techniques (dropout, L1, L2, etc)\n",
    "dataloader/transformations/image-augmentations\n",
    "misc items like finding misclassified images\n",
    "'''"
   ]
  },
  {
   "cell_type": "code",
   "execution_count": null,
   "metadata": {},
   "outputs": [],
   "source": []
  },
  {
   "cell_type": "code",
   "execution_count": 1,
   "metadata": {},
   "outputs": [],
   "source": [
    "from __future__ import print_function\n",
    "import torch\n",
    "import torch.nn as nn\n",
    "import torch.nn.functional as F\n",
    "import torch.optim as optim\n",
    "from torchvision import datasets, transforms\n",
    "\n",
    "from torchsummary import summary\n",
    "\n",
    "# Let's visualize some of the images\n",
    "#%matplotlib inline\n",
    "import matplotlib.pyplot as plt\n",
    "import argparse\n",
    "\n",
    "from torch.optim.lr_scheduler import StepLR,OneCycleLR\n",
    "\n",
    "from train import *\n",
    "from test import *\n",
    "from model import *\n",
    "from plotter import *\n",
    "from data import *\n",
    "# from model_group_norm import *\n",
    "# from model_layer_norm import *\n",
    "\n",
    "#from parser_args import norm, epochs"
   ]
  },
  {
   "cell_type": "code",
   "execution_count": 2,
   "metadata": {},
   "outputs": [],
   "source": [
    "norm='bn'\n",
    "epochs=25"
   ]
  },
  {
   "cell_type": "code",
   "execution_count": 3,
   "metadata": {},
   "outputs": [
    {
     "name": "stdout",
     "output_type": "stream",
     "text": [
      "CUDA Available? True\n"
     ]
    }
   ],
   "source": [
    "SEED = 1\n",
    "\n",
    "# CUDA?\n",
    "cuda = torch.cuda.is_available()\n",
    "print(\"CUDA Available?\", cuda)\n",
    "\n",
    "# For reproducibility\n",
    "torch.manual_seed(SEED)\n",
    "\n",
    "if cuda:\n",
    "    torch.cuda.manual_seed(SEED)\n",
    "\n",
    "\n",
    "\n",
    "# train dataloader\n",
    "train_loader = load_train()\n",
    "\n",
    "# test dataloader\n",
    "test_loader = load_test()"
   ]
  },
  {
   "cell_type": "code",
   "execution_count": 4,
   "metadata": {},
   "outputs": [
    {
     "name": "stdout",
     "output_type": "stream",
     "text": [
      "Using:  cuda\n",
      "Loading Batchnorm Model\n",
      "----------------------------------------------------------------\n",
      "        Layer (type)               Output Shape         Param #\n",
      "================================================================\n",
      "            Conv2d-1            [-1, 8, 26, 26]              72\n",
      "              ReLU-2            [-1, 8, 26, 26]               0\n",
      "           Dropout-3            [-1, 8, 26, 26]               0\n",
      "            Conv2d-4           [-1, 16, 24, 24]           1,152\n",
      "              ReLU-5           [-1, 16, 24, 24]               0\n",
      "       BatchNorm2d-6           [-1, 16, 24, 24]              32\n",
      "           Dropout-7           [-1, 16, 24, 24]               0\n",
      "         MaxPool2d-8           [-1, 16, 12, 12]               0\n",
      "            Conv2d-9            [-1, 8, 12, 12]             128\n",
      "           Conv2d-10           [-1, 10, 10, 10]             720\n",
      "             ReLU-11           [-1, 10, 10, 10]               0\n",
      "      BatchNorm2d-12           [-1, 10, 10, 10]              20\n",
      "          Dropout-13           [-1, 10, 10, 10]               0\n",
      "           Conv2d-14             [-1, 16, 8, 8]           1,440\n",
      "             ReLU-15             [-1, 16, 8, 8]               0\n",
      "      BatchNorm2d-16             [-1, 16, 8, 8]              32\n",
      "          Dropout-17             [-1, 16, 8, 8]               0\n",
      "           Conv2d-18             [-1, 18, 6, 6]           2,592\n",
      "             ReLU-19             [-1, 18, 6, 6]               0\n",
      "      BatchNorm2d-20             [-1, 18, 6, 6]              36\n",
      "          Dropout-21             [-1, 18, 6, 6]               0\n",
      "        AvgPool2d-22             [-1, 18, 1, 1]               0\n",
      "           Conv2d-23             [-1, 16, 1, 1]             288\n",
      "             ReLU-24             [-1, 16, 1, 1]               0\n",
      "      BatchNorm2d-25             [-1, 16, 1, 1]              32\n",
      "          Dropout-26             [-1, 16, 1, 1]               0\n",
      "           Conv2d-27             [-1, 10, 1, 1]             160\n",
      "================================================================\n",
      "Total params: 6,704\n",
      "Trainable params: 6,704\n",
      "Non-trainable params: 0\n",
      "----------------------------------------------------------------\n",
      "Input size (MB): 0.00\n",
      "Forward/backward pass size (MB): 0.51\n",
      "Params size (MB): 0.03\n",
      "Estimated Total Size (MB): 0.54\n",
      "----------------------------------------------------------------\n"
     ]
    }
   ],
   "source": [
    "# Printing the summary of the model\n",
    "use_cuda = torch.cuda.is_available()\n",
    "device = torch.device(\"cuda\" if use_cuda else \"cpu\")\n",
    "print(\"Using: \",device)\n",
    "\n",
    "if norm == 'bn':\n",
    "\tprint(\"Loading Batchnorm Model\")\n",
    "\tmodel = Net().to(device)\n",
    "elif norm == 'group':\n",
    "\tprint(\"Loading Group Model\")\n",
    "\tmodel = Net_group_norm().to(device)\n",
    "\n",
    "elif norm == 'layer':\n",
    "\tprint(\"Loading layer Model\")\n",
    "\tmodel = Net_layer_norm().to(device)\n",
    "\n",
    "#model = Net().to(device)\n",
    "#model = Net_group_norm().to(device)\n",
    "#model = Net_layer_norm().to(device)\n",
    "\n",
    "model.apply(weights_init)\n",
    "summary(model, input_size=(1, 28, 28))\n"
   ]
  },
  {
   "cell_type": "code",
   "execution_count": null,
   "metadata": {},
   "outputs": [
    {
     "name": "stderr",
     "output_type": "stream",
     "text": [
      "\r",
      "  0%|          | 0/469 [00:00<?, ?it/s]"
     ]
    },
    {
     "name": "stdout",
     "output_type": "stream",
     "text": [
      "EPOCH: 1\n"
     ]
    },
    {
     "name": "stderr",
     "output_type": "stream",
     "text": [
      "Loss=13.369365692138672 Batch_id=0 Accuracy=9.38:   0%|          | 0/469 [00:00<?, ?it/s]\n",
      "  0%|          | 0/469 [00:00<?, ?it/s]"
     ]
    },
    {
     "name": "stdout",
     "output_type": "stream",
     "text": [
      "\n",
      "Test set: Average loss: 2.5878, Accuracy: 985/10000 (9.85%)\n",
      "\n",
      "EPOCH: 2\n"
     ]
    },
    {
     "name": "stderr",
     "output_type": "stream",
     "text": [
      "Loss=13.329697608947754 Batch_id=0 Accuracy=4.69:   0%|          | 0/469 [00:00<?, ?it/s]\n",
      "  0%|          | 0/469 [00:00<?, ?it/s]"
     ]
    },
    {
     "name": "stdout",
     "output_type": "stream",
     "text": [
      "\n",
      "Test set: Average loss: 2.4938, Accuracy: 936/10000 (9.36%)\n",
      "\n",
      "EPOCH: 3\n"
     ]
    },
    {
     "name": "stderr",
     "output_type": "stream",
     "text": [
      "Loss=13.102058410644531 Batch_id=0 Accuracy=12.50:   0%|          | 0/469 [00:00<?, ?it/s]\n"
     ]
    }
   ],
   "source": [
    "optimizer = optim.SGD(model.parameters(), lr=0.01, momentum=0.9)\n",
    "\n",
    "scheduler = OneCycleLR(optimizer, max_lr=0.020,epochs=epochs,steps_per_epoch=len(train_loader))\n",
    "\n",
    "\n",
    "for epoch in range(epochs):\n",
    "    print(\"EPOCH:\", epoch+1)\n",
    "    bn_train_losses, bn_train_acc = train(model, device, train_loader, optimizer, epoch)\n",
    "    bn_test_losses, bn_test_acc = test(model, device, test_loader)"
   ]
  },
  {
   "cell_type": "code",
   "execution_count": null,
   "metadata": {},
   "outputs": [],
   "source": []
  },
  {
   "cell_type": "code",
   "execution_count": null,
   "metadata": {},
   "outputs": [],
   "source": []
  },
  {
   "cell_type": "code",
   "execution_count": null,
   "metadata": {},
   "outputs": [],
   "source": []
  },
  {
   "cell_type": "code",
   "execution_count": null,
   "metadata": {},
   "outputs": [],
   "source": []
  },
  {
   "cell_type": "code",
   "execution_count": null,
   "metadata": {},
   "outputs": [],
   "source": []
  },
  {
   "cell_type": "code",
   "execution_count": null,
   "metadata": {},
   "outputs": [],
   "source": []
  },
  {
   "cell_type": "code",
   "execution_count": null,
   "metadata": {},
   "outputs": [],
   "source": []
  },
  {
   "cell_type": "code",
   "execution_count": null,
   "metadata": {},
   "outputs": [],
   "source": []
  }
 ],
 "metadata": {
  "kernelspec": {
   "display_name": "Python [conda env:pytorch_p36] *",
   "language": "python",
   "name": "conda-env-pytorch_p36-py"
  },
  "language_info": {
   "codemirror_mode": {
    "name": "ipython",
    "version": 3
   },
   "file_extension": ".py",
   "mimetype": "text/x-python",
   "name": "python",
   "nbconvert_exporter": "python",
   "pygments_lexer": "ipython3",
   "version": "3.6.11"
  }
 },
 "nbformat": 4,
 "nbformat_minor": 4
}
