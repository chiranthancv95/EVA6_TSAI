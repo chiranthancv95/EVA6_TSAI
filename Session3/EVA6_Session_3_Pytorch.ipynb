{
  "nbformat": 4,
  "nbformat_minor": 0,
  "metadata": {
    "colab": {
      "name": "EVA6_Session 3 - Pytorch.ipynb",
      "provenance": [],
      "toc_visible": true
    },
    "kernelspec": {
      "name": "python3",
      "display_name": "Python 3"
    },
    "language_info": {
      "name": "python"
    },
    "accelerator": "GPU",
    "widgets": {
      "application/vnd.jupyter.widget-state+json": {
        "d7e5e7aac15149a0b2086363604f38c8": {
          "model_module": "@jupyter-widgets/controls",
          "model_name": "HBoxModel",
          "state": {
            "_view_name": "HBoxView",
            "_dom_classes": [],
            "_model_name": "HBoxModel",
            "_view_module": "@jupyter-widgets/controls",
            "_model_module_version": "1.5.0",
            "_view_count": null,
            "_view_module_version": "1.5.0",
            "box_style": "",
            "layout": "IPY_MODEL_104e0b0ee5ba4949889cb67a1f7cdd81",
            "_model_module": "@jupyter-widgets/controls",
            "children": [
              "IPY_MODEL_1debb9b40d58498bbdf95f59b11b7c48",
              "IPY_MODEL_bbfeaaeebb4f41039d5e3a51ff3cd063"
            ]
          }
        },
        "104e0b0ee5ba4949889cb67a1f7cdd81": {
          "model_module": "@jupyter-widgets/base",
          "model_name": "LayoutModel",
          "state": {
            "_view_name": "LayoutView",
            "grid_template_rows": null,
            "right": null,
            "justify_content": null,
            "_view_module": "@jupyter-widgets/base",
            "overflow": null,
            "_model_module_version": "1.2.0",
            "_view_count": null,
            "flex_flow": null,
            "width": null,
            "min_width": null,
            "border": null,
            "align_items": null,
            "bottom": null,
            "_model_module": "@jupyter-widgets/base",
            "top": null,
            "grid_column": null,
            "overflow_y": null,
            "overflow_x": null,
            "grid_auto_flow": null,
            "grid_area": null,
            "grid_template_columns": null,
            "flex": null,
            "_model_name": "LayoutModel",
            "justify_items": null,
            "grid_row": null,
            "max_height": null,
            "align_content": null,
            "visibility": null,
            "align_self": null,
            "height": null,
            "min_height": null,
            "padding": null,
            "grid_auto_rows": null,
            "grid_gap": null,
            "max_width": null,
            "order": null,
            "_view_module_version": "1.2.0",
            "grid_template_areas": null,
            "object_position": null,
            "object_fit": null,
            "grid_auto_columns": null,
            "margin": null,
            "display": null,
            "left": null
          }
        },
        "1debb9b40d58498bbdf95f59b11b7c48": {
          "model_module": "@jupyter-widgets/controls",
          "model_name": "FloatProgressModel",
          "state": {
            "_view_name": "ProgressView",
            "style": "IPY_MODEL_2932fa5b19ce476fa12f24d75079ef8a",
            "_dom_classes": [],
            "description": "",
            "_model_name": "FloatProgressModel",
            "bar_style": "success",
            "max": 9912422,
            "_view_module": "@jupyter-widgets/controls",
            "_model_module_version": "1.5.0",
            "value": 9912422,
            "_view_count": null,
            "_view_module_version": "1.5.0",
            "orientation": "horizontal",
            "min": 0,
            "description_tooltip": null,
            "_model_module": "@jupyter-widgets/controls",
            "layout": "IPY_MODEL_c4cd6dd6b7f04613a4ae78736d43e5b8"
          }
        },
        "bbfeaaeebb4f41039d5e3a51ff3cd063": {
          "model_module": "@jupyter-widgets/controls",
          "model_name": "HTMLModel",
          "state": {
            "_view_name": "HTMLView",
            "style": "IPY_MODEL_6e58a2d9349b4f22b7353af0789b65be",
            "_dom_classes": [],
            "description": "",
            "_model_name": "HTMLModel",
            "placeholder": "​",
            "_view_module": "@jupyter-widgets/controls",
            "_model_module_version": "1.5.0",
            "value": " 9913344/? [00:02&lt;00:00, 4521208.46it/s]",
            "_view_count": null,
            "_view_module_version": "1.5.0",
            "description_tooltip": null,
            "_model_module": "@jupyter-widgets/controls",
            "layout": "IPY_MODEL_240f2ae0a9fa43d6a5515774f1ce54fd"
          }
        },
        "2932fa5b19ce476fa12f24d75079ef8a": {
          "model_module": "@jupyter-widgets/controls",
          "model_name": "ProgressStyleModel",
          "state": {
            "_view_name": "StyleView",
            "_model_name": "ProgressStyleModel",
            "description_width": "initial",
            "_view_module": "@jupyter-widgets/base",
            "_model_module_version": "1.5.0",
            "_view_count": null,
            "_view_module_version": "1.2.0",
            "bar_color": null,
            "_model_module": "@jupyter-widgets/controls"
          }
        },
        "c4cd6dd6b7f04613a4ae78736d43e5b8": {
          "model_module": "@jupyter-widgets/base",
          "model_name": "LayoutModel",
          "state": {
            "_view_name": "LayoutView",
            "grid_template_rows": null,
            "right": null,
            "justify_content": null,
            "_view_module": "@jupyter-widgets/base",
            "overflow": null,
            "_model_module_version": "1.2.0",
            "_view_count": null,
            "flex_flow": null,
            "width": null,
            "min_width": null,
            "border": null,
            "align_items": null,
            "bottom": null,
            "_model_module": "@jupyter-widgets/base",
            "top": null,
            "grid_column": null,
            "overflow_y": null,
            "overflow_x": null,
            "grid_auto_flow": null,
            "grid_area": null,
            "grid_template_columns": null,
            "flex": null,
            "_model_name": "LayoutModel",
            "justify_items": null,
            "grid_row": null,
            "max_height": null,
            "align_content": null,
            "visibility": null,
            "align_self": null,
            "height": null,
            "min_height": null,
            "padding": null,
            "grid_auto_rows": null,
            "grid_gap": null,
            "max_width": null,
            "order": null,
            "_view_module_version": "1.2.0",
            "grid_template_areas": null,
            "object_position": null,
            "object_fit": null,
            "grid_auto_columns": null,
            "margin": null,
            "display": null,
            "left": null
          }
        },
        "6e58a2d9349b4f22b7353af0789b65be": {
          "model_module": "@jupyter-widgets/controls",
          "model_name": "DescriptionStyleModel",
          "state": {
            "_view_name": "StyleView",
            "_model_name": "DescriptionStyleModel",
            "description_width": "",
            "_view_module": "@jupyter-widgets/base",
            "_model_module_version": "1.5.0",
            "_view_count": null,
            "_view_module_version": "1.2.0",
            "_model_module": "@jupyter-widgets/controls"
          }
        },
        "240f2ae0a9fa43d6a5515774f1ce54fd": {
          "model_module": "@jupyter-widgets/base",
          "model_name": "LayoutModel",
          "state": {
            "_view_name": "LayoutView",
            "grid_template_rows": null,
            "right": null,
            "justify_content": null,
            "_view_module": "@jupyter-widgets/base",
            "overflow": null,
            "_model_module_version": "1.2.0",
            "_view_count": null,
            "flex_flow": null,
            "width": null,
            "min_width": null,
            "border": null,
            "align_items": null,
            "bottom": null,
            "_model_module": "@jupyter-widgets/base",
            "top": null,
            "grid_column": null,
            "overflow_y": null,
            "overflow_x": null,
            "grid_auto_flow": null,
            "grid_area": null,
            "grid_template_columns": null,
            "flex": null,
            "_model_name": "LayoutModel",
            "justify_items": null,
            "grid_row": null,
            "max_height": null,
            "align_content": null,
            "visibility": null,
            "align_self": null,
            "height": null,
            "min_height": null,
            "padding": null,
            "grid_auto_rows": null,
            "grid_gap": null,
            "max_width": null,
            "order": null,
            "_view_module_version": "1.2.0",
            "grid_template_areas": null,
            "object_position": null,
            "object_fit": null,
            "grid_auto_columns": null,
            "margin": null,
            "display": null,
            "left": null
          }
        },
        "cc2d6e5350ea4780a0475542852c119a": {
          "model_module": "@jupyter-widgets/controls",
          "model_name": "HBoxModel",
          "state": {
            "_view_name": "HBoxView",
            "_dom_classes": [],
            "_model_name": "HBoxModel",
            "_view_module": "@jupyter-widgets/controls",
            "_model_module_version": "1.5.0",
            "_view_count": null,
            "_view_module_version": "1.5.0",
            "box_style": "",
            "layout": "IPY_MODEL_ffe9b92f133e449ab018c31a97b0ac5b",
            "_model_module": "@jupyter-widgets/controls",
            "children": [
              "IPY_MODEL_edd324b87bbd491f8c3e83f7b7a4c670",
              "IPY_MODEL_e1cdd965c6494f86b6936492ab072758"
            ]
          }
        },
        "ffe9b92f133e449ab018c31a97b0ac5b": {
          "model_module": "@jupyter-widgets/base",
          "model_name": "LayoutModel",
          "state": {
            "_view_name": "LayoutView",
            "grid_template_rows": null,
            "right": null,
            "justify_content": null,
            "_view_module": "@jupyter-widgets/base",
            "overflow": null,
            "_model_module_version": "1.2.0",
            "_view_count": null,
            "flex_flow": null,
            "width": null,
            "min_width": null,
            "border": null,
            "align_items": null,
            "bottom": null,
            "_model_module": "@jupyter-widgets/base",
            "top": null,
            "grid_column": null,
            "overflow_y": null,
            "overflow_x": null,
            "grid_auto_flow": null,
            "grid_area": null,
            "grid_template_columns": null,
            "flex": null,
            "_model_name": "LayoutModel",
            "justify_items": null,
            "grid_row": null,
            "max_height": null,
            "align_content": null,
            "visibility": null,
            "align_self": null,
            "height": null,
            "min_height": null,
            "padding": null,
            "grid_auto_rows": null,
            "grid_gap": null,
            "max_width": null,
            "order": null,
            "_view_module_version": "1.2.0",
            "grid_template_areas": null,
            "object_position": null,
            "object_fit": null,
            "grid_auto_columns": null,
            "margin": null,
            "display": null,
            "left": null
          }
        },
        "edd324b87bbd491f8c3e83f7b7a4c670": {
          "model_module": "@jupyter-widgets/controls",
          "model_name": "FloatProgressModel",
          "state": {
            "_view_name": "ProgressView",
            "style": "IPY_MODEL_ba450bbf1fd54be6abeed502e4da01ad",
            "_dom_classes": [],
            "description": "",
            "_model_name": "FloatProgressModel",
            "bar_style": "success",
            "max": 28881,
            "_view_module": "@jupyter-widgets/controls",
            "_model_module_version": "1.5.0",
            "value": 28881,
            "_view_count": null,
            "_view_module_version": "1.5.0",
            "orientation": "horizontal",
            "min": 0,
            "description_tooltip": null,
            "_model_module": "@jupyter-widgets/controls",
            "layout": "IPY_MODEL_7e6d9901ee7f4a92863260b7b61067bc"
          }
        },
        "e1cdd965c6494f86b6936492ab072758": {
          "model_module": "@jupyter-widgets/controls",
          "model_name": "HTMLModel",
          "state": {
            "_view_name": "HTMLView",
            "style": "IPY_MODEL_da3d707011bd491eb339826707279e50",
            "_dom_classes": [],
            "description": "",
            "_model_name": "HTMLModel",
            "placeholder": "​",
            "_view_module": "@jupyter-widgets/controls",
            "_model_module_version": "1.5.0",
            "value": " 29696/? [00:00&lt;00:00, 36457.66it/s]",
            "_view_count": null,
            "_view_module_version": "1.5.0",
            "description_tooltip": null,
            "_model_module": "@jupyter-widgets/controls",
            "layout": "IPY_MODEL_60cf3b02e3d64ee49c0970cb871baaa2"
          }
        },
        "ba450bbf1fd54be6abeed502e4da01ad": {
          "model_module": "@jupyter-widgets/controls",
          "model_name": "ProgressStyleModel",
          "state": {
            "_view_name": "StyleView",
            "_model_name": "ProgressStyleModel",
            "description_width": "initial",
            "_view_module": "@jupyter-widgets/base",
            "_model_module_version": "1.5.0",
            "_view_count": null,
            "_view_module_version": "1.2.0",
            "bar_color": null,
            "_model_module": "@jupyter-widgets/controls"
          }
        },
        "7e6d9901ee7f4a92863260b7b61067bc": {
          "model_module": "@jupyter-widgets/base",
          "model_name": "LayoutModel",
          "state": {
            "_view_name": "LayoutView",
            "grid_template_rows": null,
            "right": null,
            "justify_content": null,
            "_view_module": "@jupyter-widgets/base",
            "overflow": null,
            "_model_module_version": "1.2.0",
            "_view_count": null,
            "flex_flow": null,
            "width": null,
            "min_width": null,
            "border": null,
            "align_items": null,
            "bottom": null,
            "_model_module": "@jupyter-widgets/base",
            "top": null,
            "grid_column": null,
            "overflow_y": null,
            "overflow_x": null,
            "grid_auto_flow": null,
            "grid_area": null,
            "grid_template_columns": null,
            "flex": null,
            "_model_name": "LayoutModel",
            "justify_items": null,
            "grid_row": null,
            "max_height": null,
            "align_content": null,
            "visibility": null,
            "align_self": null,
            "height": null,
            "min_height": null,
            "padding": null,
            "grid_auto_rows": null,
            "grid_gap": null,
            "max_width": null,
            "order": null,
            "_view_module_version": "1.2.0",
            "grid_template_areas": null,
            "object_position": null,
            "object_fit": null,
            "grid_auto_columns": null,
            "margin": null,
            "display": null,
            "left": null
          }
        },
        "da3d707011bd491eb339826707279e50": {
          "model_module": "@jupyter-widgets/controls",
          "model_name": "DescriptionStyleModel",
          "state": {
            "_view_name": "StyleView",
            "_model_name": "DescriptionStyleModel",
            "description_width": "",
            "_view_module": "@jupyter-widgets/base",
            "_model_module_version": "1.5.0",
            "_view_count": null,
            "_view_module_version": "1.2.0",
            "_model_module": "@jupyter-widgets/controls"
          }
        },
        "60cf3b02e3d64ee49c0970cb871baaa2": {
          "model_module": "@jupyter-widgets/base",
          "model_name": "LayoutModel",
          "state": {
            "_view_name": "LayoutView",
            "grid_template_rows": null,
            "right": null,
            "justify_content": null,
            "_view_module": "@jupyter-widgets/base",
            "overflow": null,
            "_model_module_version": "1.2.0",
            "_view_count": null,
            "flex_flow": null,
            "width": null,
            "min_width": null,
            "border": null,
            "align_items": null,
            "bottom": null,
            "_model_module": "@jupyter-widgets/base",
            "top": null,
            "grid_column": null,
            "overflow_y": null,
            "overflow_x": null,
            "grid_auto_flow": null,
            "grid_area": null,
            "grid_template_columns": null,
            "flex": null,
            "_model_name": "LayoutModel",
            "justify_items": null,
            "grid_row": null,
            "max_height": null,
            "align_content": null,
            "visibility": null,
            "align_self": null,
            "height": null,
            "min_height": null,
            "padding": null,
            "grid_auto_rows": null,
            "grid_gap": null,
            "max_width": null,
            "order": null,
            "_view_module_version": "1.2.0",
            "grid_template_areas": null,
            "object_position": null,
            "object_fit": null,
            "grid_auto_columns": null,
            "margin": null,
            "display": null,
            "left": null
          }
        },
        "38ac3f3a00be4972b9ff857a60c7e20f": {
          "model_module": "@jupyter-widgets/controls",
          "model_name": "HBoxModel",
          "state": {
            "_view_name": "HBoxView",
            "_dom_classes": [],
            "_model_name": "HBoxModel",
            "_view_module": "@jupyter-widgets/controls",
            "_model_module_version": "1.5.0",
            "_view_count": null,
            "_view_module_version": "1.5.0",
            "box_style": "",
            "layout": "IPY_MODEL_5a1823c1e9d54f1d9880697d2a6fa7c1",
            "_model_module": "@jupyter-widgets/controls",
            "children": [
              "IPY_MODEL_3db647ca98e642e8a4ef71506baff8de",
              "IPY_MODEL_132dcde400704a1fa77eb6657bd15f1c"
            ]
          }
        },
        "5a1823c1e9d54f1d9880697d2a6fa7c1": {
          "model_module": "@jupyter-widgets/base",
          "model_name": "LayoutModel",
          "state": {
            "_view_name": "LayoutView",
            "grid_template_rows": null,
            "right": null,
            "justify_content": null,
            "_view_module": "@jupyter-widgets/base",
            "overflow": null,
            "_model_module_version": "1.2.0",
            "_view_count": null,
            "flex_flow": null,
            "width": null,
            "min_width": null,
            "border": null,
            "align_items": null,
            "bottom": null,
            "_model_module": "@jupyter-widgets/base",
            "top": null,
            "grid_column": null,
            "overflow_y": null,
            "overflow_x": null,
            "grid_auto_flow": null,
            "grid_area": null,
            "grid_template_columns": null,
            "flex": null,
            "_model_name": "LayoutModel",
            "justify_items": null,
            "grid_row": null,
            "max_height": null,
            "align_content": null,
            "visibility": null,
            "align_self": null,
            "height": null,
            "min_height": null,
            "padding": null,
            "grid_auto_rows": null,
            "grid_gap": null,
            "max_width": null,
            "order": null,
            "_view_module_version": "1.2.0",
            "grid_template_areas": null,
            "object_position": null,
            "object_fit": null,
            "grid_auto_columns": null,
            "margin": null,
            "display": null,
            "left": null
          }
        },
        "3db647ca98e642e8a4ef71506baff8de": {
          "model_module": "@jupyter-widgets/controls",
          "model_name": "FloatProgressModel",
          "state": {
            "_view_name": "ProgressView",
            "style": "IPY_MODEL_9dd5554e1d2a4a44a25191cfbd729518",
            "_dom_classes": [],
            "description": "",
            "_model_name": "FloatProgressModel",
            "bar_style": "success",
            "max": 1648877,
            "_view_module": "@jupyter-widgets/controls",
            "_model_module_version": "1.5.0",
            "value": 1648877,
            "_view_count": null,
            "_view_module_version": "1.5.0",
            "orientation": "horizontal",
            "min": 0,
            "description_tooltip": null,
            "_model_module": "@jupyter-widgets/controls",
            "layout": "IPY_MODEL_4fc368f5cc1944db9a09871f29dbbd45"
          }
        },
        "132dcde400704a1fa77eb6657bd15f1c": {
          "model_module": "@jupyter-widgets/controls",
          "model_name": "HTMLModel",
          "state": {
            "_view_name": "HTMLView",
            "style": "IPY_MODEL_f4d04a74b14745aead1fb2fdcbf1e105",
            "_dom_classes": [],
            "description": "",
            "_model_name": "HTMLModel",
            "placeholder": "​",
            "_view_module": "@jupyter-widgets/controls",
            "_model_module_version": "1.5.0",
            "value": " 1649664/? [05:27&lt;00:00, 5038.32it/s]",
            "_view_count": null,
            "_view_module_version": "1.5.0",
            "description_tooltip": null,
            "_model_module": "@jupyter-widgets/controls",
            "layout": "IPY_MODEL_a0953893195a40fcab4dfb1b7720c7ed"
          }
        },
        "9dd5554e1d2a4a44a25191cfbd729518": {
          "model_module": "@jupyter-widgets/controls",
          "model_name": "ProgressStyleModel",
          "state": {
            "_view_name": "StyleView",
            "_model_name": "ProgressStyleModel",
            "description_width": "initial",
            "_view_module": "@jupyter-widgets/base",
            "_model_module_version": "1.5.0",
            "_view_count": null,
            "_view_module_version": "1.2.0",
            "bar_color": null,
            "_model_module": "@jupyter-widgets/controls"
          }
        },
        "4fc368f5cc1944db9a09871f29dbbd45": {
          "model_module": "@jupyter-widgets/base",
          "model_name": "LayoutModel",
          "state": {
            "_view_name": "LayoutView",
            "grid_template_rows": null,
            "right": null,
            "justify_content": null,
            "_view_module": "@jupyter-widgets/base",
            "overflow": null,
            "_model_module_version": "1.2.0",
            "_view_count": null,
            "flex_flow": null,
            "width": null,
            "min_width": null,
            "border": null,
            "align_items": null,
            "bottom": null,
            "_model_module": "@jupyter-widgets/base",
            "top": null,
            "grid_column": null,
            "overflow_y": null,
            "overflow_x": null,
            "grid_auto_flow": null,
            "grid_area": null,
            "grid_template_columns": null,
            "flex": null,
            "_model_name": "LayoutModel",
            "justify_items": null,
            "grid_row": null,
            "max_height": null,
            "align_content": null,
            "visibility": null,
            "align_self": null,
            "height": null,
            "min_height": null,
            "padding": null,
            "grid_auto_rows": null,
            "grid_gap": null,
            "max_width": null,
            "order": null,
            "_view_module_version": "1.2.0",
            "grid_template_areas": null,
            "object_position": null,
            "object_fit": null,
            "grid_auto_columns": null,
            "margin": null,
            "display": null,
            "left": null
          }
        },
        "f4d04a74b14745aead1fb2fdcbf1e105": {
          "model_module": "@jupyter-widgets/controls",
          "model_name": "DescriptionStyleModel",
          "state": {
            "_view_name": "StyleView",
            "_model_name": "DescriptionStyleModel",
            "description_width": "",
            "_view_module": "@jupyter-widgets/base",
            "_model_module_version": "1.5.0",
            "_view_count": null,
            "_view_module_version": "1.2.0",
            "_model_module": "@jupyter-widgets/controls"
          }
        },
        "a0953893195a40fcab4dfb1b7720c7ed": {
          "model_module": "@jupyter-widgets/base",
          "model_name": "LayoutModel",
          "state": {
            "_view_name": "LayoutView",
            "grid_template_rows": null,
            "right": null,
            "justify_content": null,
            "_view_module": "@jupyter-widgets/base",
            "overflow": null,
            "_model_module_version": "1.2.0",
            "_view_count": null,
            "flex_flow": null,
            "width": null,
            "min_width": null,
            "border": null,
            "align_items": null,
            "bottom": null,
            "_model_module": "@jupyter-widgets/base",
            "top": null,
            "grid_column": null,
            "overflow_y": null,
            "overflow_x": null,
            "grid_auto_flow": null,
            "grid_area": null,
            "grid_template_columns": null,
            "flex": null,
            "_model_name": "LayoutModel",
            "justify_items": null,
            "grid_row": null,
            "max_height": null,
            "align_content": null,
            "visibility": null,
            "align_self": null,
            "height": null,
            "min_height": null,
            "padding": null,
            "grid_auto_rows": null,
            "grid_gap": null,
            "max_width": null,
            "order": null,
            "_view_module_version": "1.2.0",
            "grid_template_areas": null,
            "object_position": null,
            "object_fit": null,
            "grid_auto_columns": null,
            "margin": null,
            "display": null,
            "left": null
          }
        },
        "2422693460dc4d11be8dc76f08661432": {
          "model_module": "@jupyter-widgets/controls",
          "model_name": "HBoxModel",
          "state": {
            "_view_name": "HBoxView",
            "_dom_classes": [],
            "_model_name": "HBoxModel",
            "_view_module": "@jupyter-widgets/controls",
            "_model_module_version": "1.5.0",
            "_view_count": null,
            "_view_module_version": "1.5.0",
            "box_style": "",
            "layout": "IPY_MODEL_2c92cde98d2d475181a48ff1f6cfe2b6",
            "_model_module": "@jupyter-widgets/controls",
            "children": [
              "IPY_MODEL_ab8d76b5894f4b78bfed6ea19d284bb3",
              "IPY_MODEL_a2ff0830ac214617be42cdd4c6cfbe7e"
            ]
          }
        },
        "2c92cde98d2d475181a48ff1f6cfe2b6": {
          "model_module": "@jupyter-widgets/base",
          "model_name": "LayoutModel",
          "state": {
            "_view_name": "LayoutView",
            "grid_template_rows": null,
            "right": null,
            "justify_content": null,
            "_view_module": "@jupyter-widgets/base",
            "overflow": null,
            "_model_module_version": "1.2.0",
            "_view_count": null,
            "flex_flow": null,
            "width": null,
            "min_width": null,
            "border": null,
            "align_items": null,
            "bottom": null,
            "_model_module": "@jupyter-widgets/base",
            "top": null,
            "grid_column": null,
            "overflow_y": null,
            "overflow_x": null,
            "grid_auto_flow": null,
            "grid_area": null,
            "grid_template_columns": null,
            "flex": null,
            "_model_name": "LayoutModel",
            "justify_items": null,
            "grid_row": null,
            "max_height": null,
            "align_content": null,
            "visibility": null,
            "align_self": null,
            "height": null,
            "min_height": null,
            "padding": null,
            "grid_auto_rows": null,
            "grid_gap": null,
            "max_width": null,
            "order": null,
            "_view_module_version": "1.2.0",
            "grid_template_areas": null,
            "object_position": null,
            "object_fit": null,
            "grid_auto_columns": null,
            "margin": null,
            "display": null,
            "left": null
          }
        },
        "ab8d76b5894f4b78bfed6ea19d284bb3": {
          "model_module": "@jupyter-widgets/controls",
          "model_name": "FloatProgressModel",
          "state": {
            "_view_name": "ProgressView",
            "style": "IPY_MODEL_ff6515cfaeb0450c86661af342af9706",
            "_dom_classes": [],
            "description": "",
            "_model_name": "FloatProgressModel",
            "bar_style": "success",
            "max": 4542,
            "_view_module": "@jupyter-widgets/controls",
            "_model_module_version": "1.5.0",
            "value": 4542,
            "_view_count": null,
            "_view_module_version": "1.5.0",
            "orientation": "horizontal",
            "min": 0,
            "description_tooltip": null,
            "_model_module": "@jupyter-widgets/controls",
            "layout": "IPY_MODEL_99e73514830a4ba9ae5bd35d34a4bcdc"
          }
        },
        "a2ff0830ac214617be42cdd4c6cfbe7e": {
          "model_module": "@jupyter-widgets/controls",
          "model_name": "HTMLModel",
          "state": {
            "_view_name": "HTMLView",
            "style": "IPY_MODEL_c0816143027741c5a3119f848cdf2c45",
            "_dom_classes": [],
            "description": "",
            "_model_name": "HTMLModel",
            "placeholder": "​",
            "_view_module": "@jupyter-widgets/controls",
            "_model_module_version": "1.5.0",
            "value": " 5120/? [00:00&lt;00:00, 24404.91it/s]",
            "_view_count": null,
            "_view_module_version": "1.5.0",
            "description_tooltip": null,
            "_model_module": "@jupyter-widgets/controls",
            "layout": "IPY_MODEL_254669a4efb54dd395b8287f2c05ca0c"
          }
        },
        "ff6515cfaeb0450c86661af342af9706": {
          "model_module": "@jupyter-widgets/controls",
          "model_name": "ProgressStyleModel",
          "state": {
            "_view_name": "StyleView",
            "_model_name": "ProgressStyleModel",
            "description_width": "initial",
            "_view_module": "@jupyter-widgets/base",
            "_model_module_version": "1.5.0",
            "_view_count": null,
            "_view_module_version": "1.2.0",
            "bar_color": null,
            "_model_module": "@jupyter-widgets/controls"
          }
        },
        "99e73514830a4ba9ae5bd35d34a4bcdc": {
          "model_module": "@jupyter-widgets/base",
          "model_name": "LayoutModel",
          "state": {
            "_view_name": "LayoutView",
            "grid_template_rows": null,
            "right": null,
            "justify_content": null,
            "_view_module": "@jupyter-widgets/base",
            "overflow": null,
            "_model_module_version": "1.2.0",
            "_view_count": null,
            "flex_flow": null,
            "width": null,
            "min_width": null,
            "border": null,
            "align_items": null,
            "bottom": null,
            "_model_module": "@jupyter-widgets/base",
            "top": null,
            "grid_column": null,
            "overflow_y": null,
            "overflow_x": null,
            "grid_auto_flow": null,
            "grid_area": null,
            "grid_template_columns": null,
            "flex": null,
            "_model_name": "LayoutModel",
            "justify_items": null,
            "grid_row": null,
            "max_height": null,
            "align_content": null,
            "visibility": null,
            "align_self": null,
            "height": null,
            "min_height": null,
            "padding": null,
            "grid_auto_rows": null,
            "grid_gap": null,
            "max_width": null,
            "order": null,
            "_view_module_version": "1.2.0",
            "grid_template_areas": null,
            "object_position": null,
            "object_fit": null,
            "grid_auto_columns": null,
            "margin": null,
            "display": null,
            "left": null
          }
        },
        "c0816143027741c5a3119f848cdf2c45": {
          "model_module": "@jupyter-widgets/controls",
          "model_name": "DescriptionStyleModel",
          "state": {
            "_view_name": "StyleView",
            "_model_name": "DescriptionStyleModel",
            "description_width": "",
            "_view_module": "@jupyter-widgets/base",
            "_model_module_version": "1.5.0",
            "_view_count": null,
            "_view_module_version": "1.2.0",
            "_model_module": "@jupyter-widgets/controls"
          }
        },
        "254669a4efb54dd395b8287f2c05ca0c": {
          "model_module": "@jupyter-widgets/base",
          "model_name": "LayoutModel",
          "state": {
            "_view_name": "LayoutView",
            "grid_template_rows": null,
            "right": null,
            "justify_content": null,
            "_view_module": "@jupyter-widgets/base",
            "overflow": null,
            "_model_module_version": "1.2.0",
            "_view_count": null,
            "flex_flow": null,
            "width": null,
            "min_width": null,
            "border": null,
            "align_items": null,
            "bottom": null,
            "_model_module": "@jupyter-widgets/base",
            "top": null,
            "grid_column": null,
            "overflow_y": null,
            "overflow_x": null,
            "grid_auto_flow": null,
            "grid_area": null,
            "grid_template_columns": null,
            "flex": null,
            "_model_name": "LayoutModel",
            "justify_items": null,
            "grid_row": null,
            "max_height": null,
            "align_content": null,
            "visibility": null,
            "align_self": null,
            "height": null,
            "min_height": null,
            "padding": null,
            "grid_auto_rows": null,
            "grid_gap": null,
            "max_width": null,
            "order": null,
            "_view_module_version": "1.2.0",
            "grid_template_areas": null,
            "object_position": null,
            "object_fit": null,
            "grid_auto_columns": null,
            "margin": null,
            "display": null,
            "left": null
          }
        }
      }
    }
  },
  "cells": [
    {
      "cell_type": "markdown",
      "metadata": {
        "id": "X9TvkKoydAuN"
      },
      "source": [
        "#Session 3  - Assignment\n",
        "\n",
        "\n",
        "---\n",
        "Digit Recognizer     \n",
        "---\n",
        "Train Accuracy : 98.78%     \n",
        "Test Accuracy  : 99.09%  \n",
        "\n",
        "---\n",
        "Sum Calculator Model    \n",
        "---\n",
        "Train Accuracy : 94.11%     \n",
        "Test Accuracy  : 96.76%     \n",
        "\n",
        "---\n",
        "\n",
        "## Data Downloading\n",
        "\n",
        "\n",
        "Downloading data to colab environment using Pytorch\n",
        "\n",
        "\n"
      ]
    },
    {
      "cell_type": "code",
      "metadata": {
        "id": "x8T4lfDmc-hi",
        "colab": {
          "base_uri": "https://localhost:8080/",
          "height": 822,
          "referenced_widgets": [
            "d7e5e7aac15149a0b2086363604f38c8",
            "104e0b0ee5ba4949889cb67a1f7cdd81",
            "1debb9b40d58498bbdf95f59b11b7c48",
            "bbfeaaeebb4f41039d5e3a51ff3cd063",
            "2932fa5b19ce476fa12f24d75079ef8a",
            "c4cd6dd6b7f04613a4ae78736d43e5b8",
            "6e58a2d9349b4f22b7353af0789b65be",
            "240f2ae0a9fa43d6a5515774f1ce54fd",
            "cc2d6e5350ea4780a0475542852c119a",
            "ffe9b92f133e449ab018c31a97b0ac5b",
            "edd324b87bbd491f8c3e83f7b7a4c670",
            "e1cdd965c6494f86b6936492ab072758",
            "ba450bbf1fd54be6abeed502e4da01ad",
            "7e6d9901ee7f4a92863260b7b61067bc",
            "da3d707011bd491eb339826707279e50",
            "60cf3b02e3d64ee49c0970cb871baaa2",
            "38ac3f3a00be4972b9ff857a60c7e20f",
            "5a1823c1e9d54f1d9880697d2a6fa7c1",
            "3db647ca98e642e8a4ef71506baff8de",
            "132dcde400704a1fa77eb6657bd15f1c",
            "9dd5554e1d2a4a44a25191cfbd729518",
            "4fc368f5cc1944db9a09871f29dbbd45",
            "f4d04a74b14745aead1fb2fdcbf1e105",
            "a0953893195a40fcab4dfb1b7720c7ed",
            "2422693460dc4d11be8dc76f08661432",
            "2c92cde98d2d475181a48ff1f6cfe2b6",
            "ab8d76b5894f4b78bfed6ea19d284bb3",
            "a2ff0830ac214617be42cdd4c6cfbe7e",
            "ff6515cfaeb0450c86661af342af9706",
            "99e73514830a4ba9ae5bd35d34a4bcdc",
            "c0816143027741c5a3119f848cdf2c45",
            "254669a4efb54dd395b8287f2c05ca0c"
          ]
        },
        "outputId": "f552116e-afdf-49d8-e6b2-4570adedf4ce"
      },
      "source": [
        "from torchvision import datasets\n",
        "datasets.MNIST('data', download=True)"
      ],
      "execution_count": 1,
      "outputs": [
        {
          "output_type": "stream",
          "text": [
            "Downloading http://yann.lecun.com/exdb/mnist/train-images-idx3-ubyte.gz\n",
            "Downloading http://yann.lecun.com/exdb/mnist/train-images-idx3-ubyte.gz to data/MNIST/raw/train-images-idx3-ubyte.gz\n",
            "Failed to download (trying next):\n",
            "HTTP Error 503: Service Unavailable\n",
            "\n",
            "Downloading https://ossci-datasets.s3.amazonaws.com/mnist/train-images-idx3-ubyte.gz\n",
            "Downloading https://ossci-datasets.s3.amazonaws.com/mnist/train-images-idx3-ubyte.gz to data/MNIST/raw/train-images-idx3-ubyte.gz\n"
          ],
          "name": "stdout"
        },
        {
          "output_type": "display_data",
          "data": {
            "application/vnd.jupyter.widget-view+json": {
              "model_id": "d7e5e7aac15149a0b2086363604f38c8",
              "version_minor": 0,
              "version_major": 2
            },
            "text/plain": [
              "HBox(children=(FloatProgress(value=0.0, max=9912422.0), HTML(value='')))"
            ]
          },
          "metadata": {
            "tags": []
          }
        },
        {
          "output_type": "stream",
          "text": [
            "\n",
            "Extracting data/MNIST/raw/train-images-idx3-ubyte.gz to data/MNIST/raw\n",
            "\n",
            "Downloading http://yann.lecun.com/exdb/mnist/train-labels-idx1-ubyte.gz\n",
            "Downloading http://yann.lecun.com/exdb/mnist/train-labels-idx1-ubyte.gz to data/MNIST/raw/train-labels-idx1-ubyte.gz\n"
          ],
          "name": "stdout"
        },
        {
          "output_type": "display_data",
          "data": {
            "application/vnd.jupyter.widget-view+json": {
              "model_id": "cc2d6e5350ea4780a0475542852c119a",
              "version_minor": 0,
              "version_major": 2
            },
            "text/plain": [
              "HBox(children=(FloatProgress(value=0.0, max=28881.0), HTML(value='')))"
            ]
          },
          "metadata": {
            "tags": []
          }
        },
        {
          "output_type": "stream",
          "text": [
            "\n",
            "Extracting data/MNIST/raw/train-labels-idx1-ubyte.gz to data/MNIST/raw\n",
            "\n",
            "Downloading http://yann.lecun.com/exdb/mnist/t10k-images-idx3-ubyte.gz\n",
            "Failed to download (trying next):\n",
            "HTTP Error 503: Service Unavailable\n",
            "\n",
            "Downloading https://ossci-datasets.s3.amazonaws.com/mnist/t10k-images-idx3-ubyte.gz\n",
            "Downloading https://ossci-datasets.s3.amazonaws.com/mnist/t10k-images-idx3-ubyte.gz to data/MNIST/raw/t10k-images-idx3-ubyte.gz\n"
          ],
          "name": "stdout"
        },
        {
          "output_type": "display_data",
          "data": {
            "application/vnd.jupyter.widget-view+json": {
              "model_id": "38ac3f3a00be4972b9ff857a60c7e20f",
              "version_minor": 0,
              "version_major": 2
            },
            "text/plain": [
              "HBox(children=(FloatProgress(value=0.0, max=1648877.0), HTML(value='')))"
            ]
          },
          "metadata": {
            "tags": []
          }
        },
        {
          "output_type": "stream",
          "text": [
            "\n",
            "Extracting data/MNIST/raw/t10k-images-idx3-ubyte.gz to data/MNIST/raw\n",
            "\n",
            "Downloading http://yann.lecun.com/exdb/mnist/t10k-labels-idx1-ubyte.gz\n",
            "Downloading http://yann.lecun.com/exdb/mnist/t10k-labels-idx1-ubyte.gz to data/MNIST/raw/t10k-labels-idx1-ubyte.gz\n"
          ],
          "name": "stdout"
        },
        {
          "output_type": "display_data",
          "data": {
            "application/vnd.jupyter.widget-view+json": {
              "model_id": "2422693460dc4d11be8dc76f08661432",
              "version_minor": 0,
              "version_major": 2
            },
            "text/plain": [
              "HBox(children=(FloatProgress(value=0.0, max=4542.0), HTML(value='')))"
            ]
          },
          "metadata": {
            "tags": []
          }
        },
        {
          "output_type": "stream",
          "text": [
            "\n",
            "Extracting data/MNIST/raw/t10k-labels-idx1-ubyte.gz to data/MNIST/raw\n",
            "\n",
            "Processing...\n",
            "Done!\n"
          ],
          "name": "stdout"
        },
        {
          "output_type": "stream",
          "text": [
            "/usr/local/lib/python3.7/dist-packages/torchvision/datasets/mnist.py:502: UserWarning: The given NumPy array is not writeable, and PyTorch does not support non-writeable tensors. This means you can write to the underlying (supposedly non-writeable) NumPy array using the tensor. You may want to copy the array to protect its data or make it writeable before converting it to a tensor. This type of warning will be suppressed for the rest of this program. (Triggered internally at  /pytorch/torch/csrc/utils/tensor_numpy.cpp:143.)\n",
            "  return torch.from_numpy(parsed.astype(m[2], copy=False)).view(*s)\n"
          ],
          "name": "stderr"
        },
        {
          "output_type": "execute_result",
          "data": {
            "text/plain": [
              "Dataset MNIST\n",
              "    Number of datapoints: 60000\n",
              "    Root location: data\n",
              "    Split: Train"
            ]
          },
          "metadata": {
            "tags": []
          },
          "execution_count": 1
        }
      ]
    },
    {
      "cell_type": "markdown",
      "metadata": {
        "id": "oIspNAbhdbU0"
      },
      "source": [
        "## Importing the necessary modules"
      ]
    },
    {
      "cell_type": "code",
      "metadata": {
        "id": "Q0-N931-Zmlz"
      },
      "source": [
        "%matplotlib inline\n",
        "import matplotlib.pyplot as plt\n",
        "import torch\n",
        "from torch.utils.data import DataLoader\n",
        "import torch.nn.functional as F\n",
        "import torch.nn as nn\n",
        "from tqdm import tqdm"
      ],
      "execution_count": 2,
      "outputs": []
    },
    {
      "cell_type": "markdown",
      "metadata": {
        "id": "gjm8MXK3eVwI"
      },
      "source": [
        "## Custom Data Loader\n",
        "\n",
        "1. Loaded the downloaded data from the colab environment using torch.load method\n",
        "2. In the \"__getitem__\" method,\n",
        "          1) Loaded the data\n",
        "          2) Created randomm integer\n",
        "          3) Made a tuple with the expected target variables and input variables"
      ]
    },
    {
      "cell_type": "code",
      "metadata": {
        "id": "dSFcGVusACB7"
      },
      "source": [
        "class CustomLoader_MNIST(DataLoader):\n",
        "    def __init__(self,pt_path):\n",
        "        self.path = pt_path\n",
        "        self.data = torch.load(self.path)\n",
        "        \n",
        "\n",
        "    def __getitem__(self, idx):\n",
        "      if torch.is_tensor(idx):\n",
        "        idx = idx.tolist()\n",
        "\n",
        "      image, label = self.data[0][idx], self.data[1][idx] \n",
        "\n",
        "      randInt = torch.randint(0,9,(1,))\n",
        "      x1, x2, y1, y2 = image.reshape(1,28,28), randInt, label, label + randInt[0]\n",
        "\n",
        "      return x1, x2, y1, y2\n",
        "\n",
        "    def __len__(self):\n",
        "      return len(self.data[0])\n",
        "\n",
        "train_data = CustomLoader_MNIST(\"/content/data/MNIST/processed/training.pt\")\n",
        "test_data = CustomLoader_MNIST(\"/content/data/MNIST/processed/test.pt\")"
      ],
      "execution_count": 3,
      "outputs": []
    },
    {
      "cell_type": "markdown",
      "metadata": {
        "id": "geU419ejeTzK"
      },
      "source": [
        "## Load the data and check of GPU is available for training the model"
      ]
    },
    {
      "cell_type": "code",
      "metadata": {
        "id": "tXnBR2bm5fwH"
      },
      "source": [
        "torch.manual_seed(1)\n",
        "batch_size = 1024\n",
        "use_cuda = torch.cuda.is_available()\n",
        "\n",
        "kwargs = {'num_workers': 1, 'pin_memory': True} if use_cuda else {}\n",
        "train_loader = torch.utils.data.DataLoader(train_data, batch_size=batch_size, shuffle=True, **kwargs)\n",
        "test_loader = torch.utils.data.DataLoader(test_data, batch_size=batch_size, shuffle=True, **kwargs)"
      ],
      "execution_count": 4,
      "outputs": []
    },
    {
      "cell_type": "markdown",
      "metadata": {
        "id": "ier36m4lf0ju"
      },
      "source": [
        "# Network Architecture\n",
        "![Assignment.png](data:image/png;base64,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)"
      ]
    },
    {
      "cell_type": "code",
      "metadata": {
        "id": "ea6wQjL5IIue"
      },
      "source": [
        "\n",
        "dropout_value = 0.1\n",
        "\n",
        "class Net(nn.Module):\n",
        "    def __init__(self):\n",
        "        super(Net, self).__init__()\n",
        "        # Input Block\n",
        "        self.convblock1 = nn.Sequential(\n",
        "            nn.Conv2d(in_channels=1, out_channels=8, kernel_size=(3, 3), padding=0, bias=False),\n",
        "            nn.ReLU(),\n",
        "            nn.BatchNorm2d(8),\n",
        "            nn.Dropout(dropout_value)\n",
        "        ) # output_size = 26\n",
        "\n",
        "        # CONVOLUTION BLOCK 1\n",
        "        self.convblock2 = nn.Sequential(\n",
        "            nn.Conv2d(in_channels=8, out_channels=16, kernel_size=(3, 3), padding=0, bias=False),\n",
        "            nn.ReLU(),\n",
        "            nn.BatchNorm2d(16),\n",
        "            nn.Dropout(dropout_value)\n",
        "        ) # output_size = 24\n",
        "\n",
        "        # TRANSITION BLOCK 1\n",
        "        self.convblock3 = nn.Sequential(\n",
        "            nn.Conv2d(in_channels=16, out_channels=8, kernel_size=(1, 1), padding=0, bias=False),\n",
        "        ) # output_size = 24\n",
        "        self.pool1 = nn.MaxPool2d(2, 2) # output_size = 12\n",
        "\n",
        "        # CONVOLUTION BLOCK 2\n",
        "        self.convblock4 = nn.Sequential(\n",
        "            nn.Conv2d(in_channels=8, out_channels=16, kernel_size=(3, 3), padding=0, bias=False),\n",
        "            nn.ReLU(),            \n",
        "            nn.BatchNorm2d(16),\n",
        "            nn.Dropout(dropout_value)\n",
        "        ) # output_size = 10\n",
        "        self.convblock5 = nn.Sequential(\n",
        "            nn.Conv2d(in_channels=16, out_channels=16, kernel_size=(3, 3), padding=0, bias=False),\n",
        "            nn.ReLU(),            \n",
        "            nn.BatchNorm2d(16),\n",
        "            nn.Dropout(dropout_value)\n",
        "        ) # output_size = 8\n",
        "        self.convblock6 = nn.Sequential(\n",
        "            nn.Conv2d(in_channels=16, out_channels=16, kernel_size=(3, 3), padding=0, bias=False),\n",
        "            nn.ReLU(),            \n",
        "            nn.BatchNorm2d(16),\n",
        "            nn.Dropout(dropout_value)\n",
        "        ) # output_size = 6\n",
        "        self.convblock7 = nn.Sequential(\n",
        "            nn.Conv2d(in_channels=16, out_channels=16, kernel_size=(3, 3), padding=1, bias=False),\n",
        "            nn.ReLU(),            \n",
        "            nn.BatchNorm2d(16),\n",
        "            nn.Dropout(dropout_value)\n",
        "        ) # output_size = 6\n",
        "        \n",
        "        # OUTPUT BLOCK\n",
        "        self.gap = nn.Sequential(\n",
        "            nn.AvgPool2d(kernel_size=6)\n",
        "        ) # output_size = 1\n",
        "\n",
        "        self.convblock8 = nn.Sequential(\n",
        "            nn.Conv2d(in_channels=16, out_channels=10, kernel_size=(1, 1), padding=0, bias=False),\n",
        "            # nn.BatchNorm2d(10),\n",
        "            # nn.ReLU(),\n",
        "            # nn.Dropout(dropout_value)\n",
        "        ) \n",
        "\n",
        "        self.dropout = nn.Dropout(dropout_value)\n",
        "        self.relu = nn.ReLU()\n",
        "        self.ln1 = nn.Linear(11,30)\n",
        "        self.ln2 = nn.Linear(30,19)\n",
        "\n",
        "    def forward(self, img, rnum):        \n",
        "        img = self.convblock1(img)\n",
        "        img = self.convblock2(img)\n",
        "        img = self.convblock3(img)\n",
        "        img = self.pool1(img)\n",
        "        img = self.convblock4(img)\n",
        "        img = self.convblock5(img)\n",
        "        img = self.convblock6(img)\n",
        "        img = self.convblock7(img)\n",
        "        img = self.gap(img)        \n",
        "        img = self.convblock8(img)\n",
        "        img = img.view(-1, 10)\n",
        "\n",
        "        rnum = torch.cat((img, rnum), dim=1)\n",
        "        rnum = self.ln1(rnum)\n",
        "        rnum = self.relu(rnum)\n",
        "        rnum = self.ln2(rnum)\n",
        "\n",
        "        img = F.log_softmax(img, dim=-1)\n",
        "        rnum = F.log_softmax(rnum, dim=-1)\n",
        "        return img, rnum"
      ],
      "execution_count": 9,
      "outputs": []
    },
    {
      "cell_type": "markdown",
      "metadata": {
        "id": "KQp-4Sg6sqNB"
      },
      "source": [
        "## Enable cuda for calculation\n",
        "1. Check if GPU is available for computation\n",
        "2. if available move the model to GPU"
      ]
    },
    {
      "cell_type": "code",
      "metadata": {
        "id": "SdwQvMu7KXGC",
        "colab": {
          "base_uri": "https://localhost:8080/"
        },
        "outputId": "152e19b0-4609-421d-a81f-7c8f6fbd64ed"
      },
      "source": [
        "\n",
        "use_cuda = torch.cuda.is_available()\n",
        "device = torch.device(\"cuda\" if use_cuda else \"cpu\")\n",
        "print(device)\n",
        "model = Net().to(device)"
      ],
      "execution_count": 10,
      "outputs": [
        {
          "output_type": "stream",
          "text": [
            "cuda\n"
          ],
          "name": "stdout"
        }
      ]
    },
    {
      "cell_type": "markdown",
      "metadata": {
        "id": "AnU9YiA4s4Yx"
      },
      "source": [
        "## Train and Test Functions\n",
        "\n",
        "Model will be trained by following below steps:\n",
        "1. Move the below variables to GPU       \n",
        "    a) x1 - Image      \n",
        "    b) x2 - Random Number     \n",
        "    c) y1 - image output     \n",
        "    d) y2 - Sum of digit in the image and random number     \n",
        "2. Calculate loss using the Negative loglikelihood function for both digit recognizing and sum calculation\n",
        "3. Calculate total loss by adding both the values. To improve model accuracy, loss2(Sum calculation network loss) is multiplied by 2 in order to increase its weightage in loss so that the overall loss is magnified for every one unit of loss in Sum calculation network \n",
        "4. Plot function will help us visualize improve of accuracy with various epochs\n",
        "\n",
        "\n",
        "\n"
      ]
    },
    {
      "cell_type": "code",
      "metadata": {
        "id": "EEm0ZH3wKz08"
      },
      "source": [
        "def train(model, device, train_loader, optimizer, epoch):\n",
        "\n",
        "  model.train()\n",
        "  pbar = tqdm(train_loader)\n",
        "  correct1 = 0\n",
        "  processed = 0\n",
        "  correct2 = 0\n",
        "\n",
        "  for batch_idx, (x1, x2, y1, y2) in enumerate(pbar):\n",
        "    # Data\n",
        "    x1, x2, y1, y2 = x1.float().to(device), x2.float().to(device), y1.to(device), y2.to(device)\n",
        "    # Init\n",
        "    \n",
        "    optimizer.zero_grad()\n",
        "    # In PyTorch, we need to set the gradients to zero before starting to do backpropragation because PyTorch accumulates the gradients on subsequent backward passes. \n",
        "    # Because of this, when you start your training loop, ideally you should zero out the gradients so that you do the parameter update correctly.\n",
        "\n",
        "    # Predict\n",
        "\n",
        "    y1_pred, y2_pred = model(x1, x2)\n",
        "\n",
        "    # Calculate loss\n",
        "    loss1 = F.nll_loss(y1_pred, y1)\n",
        "    loss2 = F.nll_loss(y2_pred, y2)\n",
        "\n",
        "    # Cross Entropy Loss\n",
        "    # loss1 = loss1_(y1_pred, y1)\n",
        "    # loss2 = loss2_(y2_pred, y2)\n",
        "\n",
        "    loss =  torch.add(loss1, loss2*2)\n",
        "    train_losses.append(loss)\n",
        "\n",
        "    # Backpropagation\n",
        "    loss.backward()\n",
        "    optimizer.step()\n",
        "\n",
        "\n",
        "    \n",
        "    pred1 = y1_pred.argmax(dim=1, keepdim=True)\n",
        "    pred2 = y2_pred.argmax(dim=1, keepdim=True)\n",
        "    \n",
        "    # get the index of the max log-probability\n",
        "    correct1 += pred1.eq(y1.view_as(pred1)).sum().item()\n",
        "    correct2 += pred2.eq(y2.view_as(pred2)).sum().item()\n",
        "    processed += len(x1)\n",
        "\n",
        "    pbar.set_description(desc= f'Loss={loss.item()} Batch_id={batch_idx} Accuracy_digit={100*correct1/processed:0.2f} Accuracy_Rnum={100*correct2/processed:0.2f}')\n",
        "    train_acc['Image'].append(100*correct1/processed)\n",
        "    train_acc['RandomNumber'].append(100*correct2/processed)\n",
        "\n",
        "def test(model, device, test_loader):\n",
        "    model.eval()\n",
        "    correct1 = 0\n",
        "    correct2 = 0\n",
        "    with torch.no_grad():\n",
        "        for x1, x2, y1, y2 in test_loader:\n",
        "            x1, x2, y1, y2 = x1.float().to(device), x2.float().to(device), y1.to(device), y2.to(device)\n",
        "            y1_pred, y2_pred = model(x1, x2)\n",
        "            \n",
        "            pred1 = y1_pred.argmax(dim=1, keepdim=True)\n",
        "            pred2 = y2_pred.argmax(dim=1, keepdim=True)\n",
        "            correct1 += pred1.eq(y1.view_as(pred1)).sum().item()\n",
        "            correct2 += pred2.eq(y2.view_as(pred2)).sum().item()\n",
        "\n",
        "    print('Test set: Accuracy_digit={} Accuracy_Rnum={}'.format(100*correct1/len(test_loader.dataset),100*correct2/len(test_loader.dataset)))\n",
        "    test_acc['Image'].append(100*correct1/len(test_loader.dataset))\n",
        "    test_acc['RandomNumber'].append(100*correct2/len(test_loader.dataset))\n",
        "\n",
        "\n",
        "\n",
        "def plot_performance(train_acc, test_acc):\n",
        "  fig, axs = plt.subplots(2,2,figsize=(15,10))\n",
        "\n",
        "  axs[0, 0].plot(train_acc['Image'])\n",
        "  axs[0, 0].set_title(\"Training - Image\")\n",
        "  axs[0, 1].plot(train_acc['RandomNumber'])\n",
        "  axs[0, 1].set_title(\"Training - Random Number Model\")\n",
        "  axs[1, 0].plot(test_acc['Image'])\n",
        "  axs[1, 0].set_title(\"Test - Image\")\n",
        "  axs[1, 1].plot(test_acc['RandomNumber'])\n",
        "  axs[1, 1].set_title(\"Test - Random Number Model\")"
      ],
      "execution_count": 15,
      "outputs": []
    },
    {
      "cell_type": "markdown",
      "metadata": {
        "id": "jhMZjutBv_7b"
      },
      "source": [
        "## Defining Optimiser and Training the model"
      ]
    },
    {
      "cell_type": "code",
      "metadata": {
        "id": "XfLy2ms8Uby2",
        "colab": {
          "base_uri": "https://localhost:8080/",
          "height": 1000
        },
        "outputId": "13f6431c-e1b4-4f39-8810-bec35d4239f3"
      },
      "source": [
        "from torch.optim.lr_scheduler import StepLR\n",
        "import torch.optim as optim\n",
        "\n",
        "train_losses = []\n",
        "test_losses =  []\n",
        "train_acc =  {'Image': [], 'RandomNumber': []}\n",
        "test_acc = {'Image': [], 'RandomNumber': []}\n",
        "\n",
        "model =  Net().to(device)\n",
        "optimizer = optim.SGD(model.parameters(), lr=0.01,momentum=0.9)\n",
        "\n",
        "EPOCHS = 50\n",
        "for epoch in range(EPOCHS):\n",
        "    print(\"EPOCH:\", epoch)\n",
        "    train(model, device, train_loader, optimizer, epoch)\n",
        "    test(model, device, test_loader)\n",
        "\n",
        "plot_performance(train_acc, test_acc)"
      ],
      "execution_count": 16,
      "outputs": [
        {
          "output_type": "stream",
          "text": [
            "\r  0%|          | 0/59 [00:00<?, ?it/s]"
          ],
          "name": "stderr"
        },
        {
          "output_type": "stream",
          "text": [
            "EPOCH: 0\n"
          ],
          "name": "stdout"
        },
        {
          "output_type": "stream",
          "text": [
            "Loss=6.500993251800537 Batch_id=58 Accuracy_digit=39.04 Accuracy_Rnum=10.23: 100%|██████████| 59/59 [00:02<00:00, 26.36it/s]\n",
            "  0%|          | 0/59 [00:00<?, ?it/s]"
          ],
          "name": "stderr"
        },
        {
          "output_type": "stream",
          "text": [
            "Test set: Accuracy_digit=66.88 Accuracy_Rnum=12.93\n",
            "EPOCH: 1\n"
          ],
          "name": "stdout"
        },
        {
          "output_type": "stream",
          "text": [
            "Loss=4.739383220672607 Batch_id=58 Accuracy_digit=78.78 Accuracy_Rnum=18.27: 100%|██████████| 59/59 [00:02<00:00, 29.42it/s]\n",
            "  0%|          | 0/59 [00:00<?, ?it/s]"
          ],
          "name": "stderr"
        },
        {
          "output_type": "stream",
          "text": [
            "Test set: Accuracy_digit=92.15 Accuracy_Rnum=22.4\n",
            "EPOCH: 2\n"
          ],
          "name": "stdout"
        },
        {
          "output_type": "stream",
          "text": [
            "Loss=3.6633598804473877 Batch_id=58 Accuracy_digit=93.71 Accuracy_Rnum=30.52: 100%|██████████| 59/59 [00:02<00:00, 28.97it/s]\n",
            "  0%|          | 0/59 [00:00<?, ?it/s]"
          ],
          "name": "stderr"
        },
        {
          "output_type": "stream",
          "text": [
            "Test set: Accuracy_digit=96.1 Accuracy_Rnum=35.59\n",
            "EPOCH: 3\n"
          ],
          "name": "stdout"
        },
        {
          "output_type": "stream",
          "text": [
            "Loss=2.993901014328003 Batch_id=58 Accuracy_digit=95.74 Accuracy_Rnum=42.06: 100%|██████████| 59/59 [00:02<00:00, 28.69it/s]\n",
            "  0%|          | 0/59 [00:00<?, ?it/s]"
          ],
          "name": "stderr"
        },
        {
          "output_type": "stream",
          "text": [
            "Test set: Accuracy_digit=97.2 Accuracy_Rnum=46.67\n",
            "EPOCH: 4\n"
          ],
          "name": "stdout"
        },
        {
          "output_type": "stream",
          "text": [
            "Loss=2.7342207431793213 Batch_id=58 Accuracy_digit=96.47 Accuracy_Rnum=49.26: 100%|██████████| 59/59 [00:02<00:00, 28.57it/s]\n",
            "  0%|          | 0/59 [00:00<?, ?it/s]"
          ],
          "name": "stderr"
        },
        {
          "output_type": "stream",
          "text": [
            "Test set: Accuracy_digit=97.58 Accuracy_Rnum=59.4\n",
            "EPOCH: 5\n"
          ],
          "name": "stdout"
        },
        {
          "output_type": "stream",
          "text": [
            "Loss=2.4146552085876465 Batch_id=58 Accuracy_digit=97.02 Accuracy_Rnum=55.59: 100%|██████████| 59/59 [00:02<00:00, 28.34it/s]\n",
            "  0%|          | 0/59 [00:00<?, ?it/s]"
          ],
          "name": "stderr"
        },
        {
          "output_type": "stream",
          "text": [
            "Test set: Accuracy_digit=97.55 Accuracy_Rnum=55.28\n",
            "EPOCH: 6\n"
          ],
          "name": "stdout"
        },
        {
          "output_type": "stream",
          "text": [
            "Loss=2.2420058250427246 Batch_id=58 Accuracy_digit=97.30 Accuracy_Rnum=60.75: 100%|██████████| 59/59 [00:02<00:00, 29.03it/s]\n",
            "  0%|          | 0/59 [00:00<?, ?it/s]"
          ],
          "name": "stderr"
        },
        {
          "output_type": "stream",
          "text": [
            "Test set: Accuracy_digit=98.13 Accuracy_Rnum=66.38\n",
            "EPOCH: 7\n"
          ],
          "name": "stdout"
        },
        {
          "output_type": "stream",
          "text": [
            "Loss=2.2368898391723633 Batch_id=58 Accuracy_digit=97.50 Accuracy_Rnum=64.43: 100%|██████████| 59/59 [00:01<00:00, 29.78it/s]\n",
            "  0%|          | 0/59 [00:00<?, ?it/s]"
          ],
          "name": "stderr"
        },
        {
          "output_type": "stream",
          "text": [
            "Test set: Accuracy_digit=97.92 Accuracy_Rnum=68.96\n",
            "EPOCH: 8\n"
          ],
          "name": "stdout"
        },
        {
          "output_type": "stream",
          "text": [
            "Loss=1.9531879425048828 Batch_id=58 Accuracy_digit=97.63 Accuracy_Rnum=67.61: 100%|██████████| 59/59 [00:02<00:00, 29.47it/s]\n",
            "  0%|          | 0/59 [00:00<?, ?it/s]"
          ],
          "name": "stderr"
        },
        {
          "output_type": "stream",
          "text": [
            "Test set: Accuracy_digit=98.14 Accuracy_Rnum=70.55\n",
            "EPOCH: 9\n"
          ],
          "name": "stdout"
        },
        {
          "output_type": "stream",
          "text": [
            "Loss=1.9585832357406616 Batch_id=58 Accuracy_digit=97.71 Accuracy_Rnum=69.18: 100%|██████████| 59/59 [00:02<00:00, 27.84it/s]\n",
            "  0%|          | 0/59 [00:00<?, ?it/s]"
          ],
          "name": "stderr"
        },
        {
          "output_type": "stream",
          "text": [
            "Test set: Accuracy_digit=98.19 Accuracy_Rnum=77.1\n",
            "EPOCH: 10\n"
          ],
          "name": "stdout"
        },
        {
          "output_type": "stream",
          "text": [
            "Loss=1.7635488510131836 Batch_id=58 Accuracy_digit=97.80 Accuracy_Rnum=72.68: 100%|██████████| 59/59 [00:02<00:00, 29.30it/s]\n",
            "  0%|          | 0/59 [00:00<?, ?it/s]"
          ],
          "name": "stderr"
        },
        {
          "output_type": "stream",
          "text": [
            "Test set: Accuracy_digit=97.74 Accuracy_Rnum=71.98\n",
            "EPOCH: 11\n"
          ],
          "name": "stdout"
        },
        {
          "output_type": "stream",
          "text": [
            "Loss=1.7466154098510742 Batch_id=58 Accuracy_digit=97.84 Accuracy_Rnum=74.26: 100%|██████████| 59/59 [00:02<00:00, 29.18it/s]\n",
            "  0%|          | 0/59 [00:00<?, ?it/s]"
          ],
          "name": "stderr"
        },
        {
          "output_type": "stream",
          "text": [
            "Test set: Accuracy_digit=98.45 Accuracy_Rnum=80.75\n",
            "EPOCH: 12\n"
          ],
          "name": "stdout"
        },
        {
          "output_type": "stream",
          "text": [
            "Loss=1.634602665901184 Batch_id=58 Accuracy_digit=98.01 Accuracy_Rnum=76.40: 100%|██████████| 59/59 [00:02<00:00, 28.14it/s]\n",
            "  0%|          | 0/59 [00:00<?, ?it/s]"
          ],
          "name": "stderr"
        },
        {
          "output_type": "stream",
          "text": [
            "Test set: Accuracy_digit=98.38 Accuracy_Rnum=79.75\n",
            "EPOCH: 13\n"
          ],
          "name": "stdout"
        },
        {
          "output_type": "stream",
          "text": [
            "Loss=1.6879962682724 Batch_id=58 Accuracy_digit=98.08 Accuracy_Rnum=77.49: 100%|██████████| 59/59 [00:02<00:00, 28.36it/s]\n",
            "  0%|          | 0/59 [00:00<?, ?it/s]"
          ],
          "name": "stderr"
        },
        {
          "output_type": "stream",
          "text": [
            "Test set: Accuracy_digit=98.46 Accuracy_Rnum=80.49\n",
            "EPOCH: 14\n"
          ],
          "name": "stdout"
        },
        {
          "output_type": "stream",
          "text": [
            "Loss=1.381972074508667 Batch_id=58 Accuracy_digit=98.04 Accuracy_Rnum=78.34: 100%|██████████| 59/59 [00:02<00:00, 28.47it/s]\n",
            "  0%|          | 0/59 [00:00<?, ?it/s]"
          ],
          "name": "stderr"
        },
        {
          "output_type": "stream",
          "text": [
            "Test set: Accuracy_digit=98.54 Accuracy_Rnum=86.15\n",
            "EPOCH: 15\n"
          ],
          "name": "stdout"
        },
        {
          "output_type": "stream",
          "text": [
            "Loss=1.5450363159179688 Batch_id=58 Accuracy_digit=98.16 Accuracy_Rnum=77.54: 100%|██████████| 59/59 [00:02<00:00, 27.79it/s]\n",
            "  0%|          | 0/59 [00:00<?, ?it/s]"
          ],
          "name": "stderr"
        },
        {
          "output_type": "stream",
          "text": [
            "Test set: Accuracy_digit=98.3 Accuracy_Rnum=80.92\n",
            "EPOCH: 16\n"
          ],
          "name": "stdout"
        },
        {
          "output_type": "stream",
          "text": [
            "Loss=1.3787333965301514 Batch_id=58 Accuracy_digit=98.19 Accuracy_Rnum=81.11: 100%|██████████| 59/59 [00:02<00:00, 28.18it/s]\n",
            "  0%|          | 0/59 [00:00<?, ?it/s]"
          ],
          "name": "stderr"
        },
        {
          "output_type": "stream",
          "text": [
            "Test set: Accuracy_digit=98.81 Accuracy_Rnum=84.24\n",
            "EPOCH: 17\n"
          ],
          "name": "stdout"
        },
        {
          "output_type": "stream",
          "text": [
            "Loss=1.488107442855835 Batch_id=58 Accuracy_digit=98.23 Accuracy_Rnum=79.86: 100%|██████████| 59/59 [00:02<00:00, 28.25it/s]\n",
            "  0%|          | 0/59 [00:00<?, ?it/s]"
          ],
          "name": "stderr"
        },
        {
          "output_type": "stream",
          "text": [
            "Test set: Accuracy_digit=98.54 Accuracy_Rnum=84.73\n",
            "EPOCH: 18\n"
          ],
          "name": "stdout"
        },
        {
          "output_type": "stream",
          "text": [
            "Loss=1.5705029964447021 Batch_id=58 Accuracy_digit=98.33 Accuracy_Rnum=81.19: 100%|██████████| 59/59 [00:02<00:00, 28.76it/s]\n",
            "  0%|          | 0/59 [00:00<?, ?it/s]"
          ],
          "name": "stderr"
        },
        {
          "output_type": "stream",
          "text": [
            "Test set: Accuracy_digit=98.28 Accuracy_Rnum=82.59\n",
            "EPOCH: 19\n"
          ],
          "name": "stdout"
        },
        {
          "output_type": "stream",
          "text": [
            "Loss=1.2114264965057373 Batch_id=58 Accuracy_digit=98.26 Accuracy_Rnum=82.94: 100%|██████████| 59/59 [00:02<00:00, 27.66it/s]\n",
            "  0%|          | 0/59 [00:00<?, ?it/s]"
          ],
          "name": "stderr"
        },
        {
          "output_type": "stream",
          "text": [
            "Test set: Accuracy_digit=98.78 Accuracy_Rnum=86.82\n",
            "EPOCH: 20\n"
          ],
          "name": "stdout"
        },
        {
          "output_type": "stream",
          "text": [
            "Loss=1.17485773563385 Batch_id=58 Accuracy_digit=98.31 Accuracy_Rnum=83.61: 100%|██████████| 59/59 [00:02<00:00, 29.07it/s]\n",
            "  0%|          | 0/59 [00:00<?, ?it/s]"
          ],
          "name": "stderr"
        },
        {
          "output_type": "stream",
          "text": [
            "Test set: Accuracy_digit=98.73 Accuracy_Rnum=85.18\n",
            "EPOCH: 21\n"
          ],
          "name": "stdout"
        },
        {
          "output_type": "stream",
          "text": [
            "Loss=1.1621050834655762 Batch_id=58 Accuracy_digit=98.47 Accuracy_Rnum=84.02: 100%|██████████| 59/59 [00:02<00:00, 27.57it/s]\n",
            "  0%|          | 0/59 [00:00<?, ?it/s]"
          ],
          "name": "stderr"
        },
        {
          "output_type": "stream",
          "text": [
            "Test set: Accuracy_digit=98.76 Accuracy_Rnum=88.72\n",
            "EPOCH: 22\n"
          ],
          "name": "stdout"
        },
        {
          "output_type": "stream",
          "text": [
            "Loss=1.0199530124664307 Batch_id=58 Accuracy_digit=98.39 Accuracy_Rnum=84.74: 100%|██████████| 59/59 [00:02<00:00, 27.31it/s]\n",
            "  0%|          | 0/59 [00:00<?, ?it/s]"
          ],
          "name": "stderr"
        },
        {
          "output_type": "stream",
          "text": [
            "Test set: Accuracy_digit=98.96 Accuracy_Rnum=87.91\n",
            "EPOCH: 23\n"
          ],
          "name": "stdout"
        },
        {
          "output_type": "stream",
          "text": [
            "Loss=1.1542844772338867 Batch_id=58 Accuracy_digit=98.50 Accuracy_Rnum=85.85: 100%|██████████| 59/59 [00:02<00:00, 26.65it/s]\n",
            "  0%|          | 0/59 [00:00<?, ?it/s]"
          ],
          "name": "stderr"
        },
        {
          "output_type": "stream",
          "text": [
            "Test set: Accuracy_digit=98.86 Accuracy_Rnum=85.5\n",
            "EPOCH: 24\n"
          ],
          "name": "stdout"
        },
        {
          "output_type": "stream",
          "text": [
            "Loss=1.152119755744934 Batch_id=58 Accuracy_digit=98.42 Accuracy_Rnum=86.20: 100%|██████████| 59/59 [00:02<00:00, 28.71it/s]\n",
            "  0%|          | 0/59 [00:00<?, ?it/s]"
          ],
          "name": "stderr"
        },
        {
          "output_type": "stream",
          "text": [
            "Test set: Accuracy_digit=98.9 Accuracy_Rnum=85.52\n",
            "EPOCH: 25\n"
          ],
          "name": "stdout"
        },
        {
          "output_type": "stream",
          "text": [
            "Loss=1.141952395439148 Batch_id=58 Accuracy_digit=98.45 Accuracy_Rnum=86.03: 100%|██████████| 59/59 [00:02<00:00, 28.23it/s]\n",
            "  0%|          | 0/59 [00:00<?, ?it/s]"
          ],
          "name": "stderr"
        },
        {
          "output_type": "stream",
          "text": [
            "Test set: Accuracy_digit=98.91 Accuracy_Rnum=88.65\n",
            "EPOCH: 26\n"
          ],
          "name": "stdout"
        },
        {
          "output_type": "stream",
          "text": [
            "Loss=0.8619004487991333 Batch_id=58 Accuracy_digit=98.55 Accuracy_Rnum=88.48: 100%|██████████| 59/59 [00:02<00:00, 27.58it/s]\n",
            "  0%|          | 0/59 [00:00<?, ?it/s]"
          ],
          "name": "stderr"
        },
        {
          "output_type": "stream",
          "text": [
            "Test set: Accuracy_digit=98.95 Accuracy_Rnum=92.85\n",
            "EPOCH: 27\n"
          ],
          "name": "stdout"
        },
        {
          "output_type": "stream",
          "text": [
            "Loss=0.9954967498779297 Batch_id=58 Accuracy_digit=98.59 Accuracy_Rnum=87.52: 100%|██████████| 59/59 [00:02<00:00, 27.80it/s]\n",
            "  0%|          | 0/59 [00:00<?, ?it/s]"
          ],
          "name": "stderr"
        },
        {
          "output_type": "stream",
          "text": [
            "Test set: Accuracy_digit=99.01 Accuracy_Rnum=94.04\n",
            "EPOCH: 28\n"
          ],
          "name": "stdout"
        },
        {
          "output_type": "stream",
          "text": [
            "Loss=0.8532682061195374 Batch_id=58 Accuracy_digit=98.55 Accuracy_Rnum=88.02: 100%|██████████| 59/59 [00:02<00:00, 27.96it/s]\n",
            "  0%|          | 0/59 [00:00<?, ?it/s]"
          ],
          "name": "stderr"
        },
        {
          "output_type": "stream",
          "text": [
            "Test set: Accuracy_digit=98.88 Accuracy_Rnum=89.65\n",
            "EPOCH: 29\n"
          ],
          "name": "stdout"
        },
        {
          "output_type": "stream",
          "text": [
            "Loss=1.0336222648620605 Batch_id=58 Accuracy_digit=98.51 Accuracy_Rnum=88.37: 100%|██████████| 59/59 [00:02<00:00, 27.74it/s]\n",
            "  0%|          | 0/59 [00:00<?, ?it/s]"
          ],
          "name": "stderr"
        },
        {
          "output_type": "stream",
          "text": [
            "Test set: Accuracy_digit=98.93 Accuracy_Rnum=93.72\n",
            "EPOCH: 30\n"
          ],
          "name": "stdout"
        },
        {
          "output_type": "stream",
          "text": [
            "Loss=0.7852633595466614 Batch_id=58 Accuracy_digit=98.59 Accuracy_Rnum=89.62: 100%|██████████| 59/59 [00:02<00:00, 27.18it/s]\n",
            "  0%|          | 0/59 [00:00<?, ?it/s]"
          ],
          "name": "stderr"
        },
        {
          "output_type": "stream",
          "text": [
            "Test set: Accuracy_digit=98.74 Accuracy_Rnum=92.13\n",
            "EPOCH: 31\n"
          ],
          "name": "stdout"
        },
        {
          "output_type": "stream",
          "text": [
            "Loss=0.7725012302398682 Batch_id=58 Accuracy_digit=98.69 Accuracy_Rnum=90.37: 100%|██████████| 59/59 [00:02<00:00, 28.78it/s]\n",
            "  0%|          | 0/59 [00:00<?, ?it/s]"
          ],
          "name": "stderr"
        },
        {
          "output_type": "stream",
          "text": [
            "Test set: Accuracy_digit=98.51 Accuracy_Rnum=90.61\n",
            "EPOCH: 32\n"
          ],
          "name": "stdout"
        },
        {
          "output_type": "stream",
          "text": [
            "Loss=0.9523015022277832 Batch_id=58 Accuracy_digit=98.56 Accuracy_Rnum=89.70: 100%|██████████| 59/59 [00:02<00:00, 27.75it/s]\n",
            "  0%|          | 0/59 [00:00<?, ?it/s]"
          ],
          "name": "stderr"
        },
        {
          "output_type": "stream",
          "text": [
            "Test set: Accuracy_digit=98.9 Accuracy_Rnum=95.27\n",
            "EPOCH: 33\n"
          ],
          "name": "stdout"
        },
        {
          "output_type": "stream",
          "text": [
            "Loss=0.7447466850280762 Batch_id=58 Accuracy_digit=98.60 Accuracy_Rnum=90.74: 100%|██████████| 59/59 [00:02<00:00, 27.91it/s]\n",
            "  0%|          | 0/59 [00:00<?, ?it/s]"
          ],
          "name": "stderr"
        },
        {
          "output_type": "stream",
          "text": [
            "Test set: Accuracy_digit=99.01 Accuracy_Rnum=93.84\n",
            "EPOCH: 34\n"
          ],
          "name": "stdout"
        },
        {
          "output_type": "stream",
          "text": [
            "Loss=0.7242580652236938 Batch_id=58 Accuracy_digit=98.71 Accuracy_Rnum=91.30: 100%|██████████| 59/59 [00:02<00:00, 27.79it/s]\n",
            "  0%|          | 0/59 [00:00<?, ?it/s]"
          ],
          "name": "stderr"
        },
        {
          "output_type": "stream",
          "text": [
            "Test set: Accuracy_digit=98.92 Accuracy_Rnum=94.94\n",
            "EPOCH: 35\n"
          ],
          "name": "stdout"
        },
        {
          "output_type": "stream",
          "text": [
            "Loss=1.1448113918304443 Batch_id=58 Accuracy_digit=98.63 Accuracy_Rnum=91.33: 100%|██████████| 59/59 [00:02<00:00, 27.74it/s]\n",
            "  0%|          | 0/59 [00:00<?, ?it/s]"
          ],
          "name": "stderr"
        },
        {
          "output_type": "stream",
          "text": [
            "Test set: Accuracy_digit=98.79 Accuracy_Rnum=93.69\n",
            "EPOCH: 36\n"
          ],
          "name": "stdout"
        },
        {
          "output_type": "stream",
          "text": [
            "Loss=0.7723993062973022 Batch_id=58 Accuracy_digit=98.68 Accuracy_Rnum=91.07: 100%|██████████| 59/59 [00:02<00:00, 27.58it/s]\n",
            "  0%|          | 0/59 [00:00<?, ?it/s]"
          ],
          "name": "stderr"
        },
        {
          "output_type": "stream",
          "text": [
            "Test set: Accuracy_digit=98.7 Accuracy_Rnum=93.12\n",
            "EPOCH: 37\n"
          ],
          "name": "stdout"
        },
        {
          "output_type": "stream",
          "text": [
            "Loss=0.5214654803276062 Batch_id=58 Accuracy_digit=98.68 Accuracy_Rnum=91.80: 100%|██████████| 59/59 [00:02<00:00, 27.42it/s]\n",
            "  0%|          | 0/59 [00:00<?, ?it/s]"
          ],
          "name": "stderr"
        },
        {
          "output_type": "stream",
          "text": [
            "Test set: Accuracy_digit=99.03 Accuracy_Rnum=94.73\n",
            "EPOCH: 38\n"
          ],
          "name": "stdout"
        },
        {
          "output_type": "stream",
          "text": [
            "Loss=0.6865896582603455 Batch_id=58 Accuracy_digit=98.69 Accuracy_Rnum=92.48: 100%|██████████| 59/59 [00:02<00:00, 28.03it/s]\n",
            "  0%|          | 0/59 [00:00<?, ?it/s]"
          ],
          "name": "stderr"
        },
        {
          "output_type": "stream",
          "text": [
            "Test set: Accuracy_digit=98.83 Accuracy_Rnum=93.87\n",
            "EPOCH: 39\n"
          ],
          "name": "stdout"
        },
        {
          "output_type": "stream",
          "text": [
            "Loss=0.7113961577415466 Batch_id=58 Accuracy_digit=98.67 Accuracy_Rnum=92.17: 100%|██████████| 59/59 [00:02<00:00, 29.13it/s]\n",
            "  0%|          | 0/59 [00:00<?, ?it/s]"
          ],
          "name": "stderr"
        },
        {
          "output_type": "stream",
          "text": [
            "Test set: Accuracy_digit=99.04 Accuracy_Rnum=95.23\n",
            "EPOCH: 40\n"
          ],
          "name": "stdout"
        },
        {
          "output_type": "stream",
          "text": [
            "Loss=0.6927061676979065 Batch_id=58 Accuracy_digit=98.68 Accuracy_Rnum=92.11: 100%|██████████| 59/59 [00:02<00:00, 26.87it/s]\n",
            "  0%|          | 0/59 [00:00<?, ?it/s]"
          ],
          "name": "stderr"
        },
        {
          "output_type": "stream",
          "text": [
            "Test set: Accuracy_digit=99.06 Accuracy_Rnum=95.88\n",
            "EPOCH: 41\n"
          ],
          "name": "stdout"
        },
        {
          "output_type": "stream",
          "text": [
            "Loss=0.7832690477371216 Batch_id=58 Accuracy_digit=98.70 Accuracy_Rnum=90.91: 100%|██████████| 59/59 [00:02<00:00, 29.12it/s]\n",
            "  0%|          | 0/59 [00:00<?, ?it/s]"
          ],
          "name": "stderr"
        },
        {
          "output_type": "stream",
          "text": [
            "Test set: Accuracy_digit=99.01 Accuracy_Rnum=95.08\n",
            "EPOCH: 42\n"
          ],
          "name": "stdout"
        },
        {
          "output_type": "stream",
          "text": [
            "Loss=0.9161985516548157 Batch_id=58 Accuracy_digit=98.76 Accuracy_Rnum=92.52: 100%|██████████| 59/59 [00:02<00:00, 29.41it/s]\n",
            "  0%|          | 0/59 [00:00<?, ?it/s]"
          ],
          "name": "stderr"
        },
        {
          "output_type": "stream",
          "text": [
            "Test set: Accuracy_digit=98.92 Accuracy_Rnum=95.75\n",
            "EPOCH: 43\n"
          ],
          "name": "stdout"
        },
        {
          "output_type": "stream",
          "text": [
            "Loss=0.5093508362770081 Batch_id=58 Accuracy_digit=98.65 Accuracy_Rnum=91.41: 100%|██████████| 59/59 [00:02<00:00, 28.70it/s]\n",
            "  0%|          | 0/59 [00:00<?, ?it/s]"
          ],
          "name": "stderr"
        },
        {
          "output_type": "stream",
          "text": [
            "Test set: Accuracy_digit=98.93 Accuracy_Rnum=95.29\n",
            "EPOCH: 44\n"
          ],
          "name": "stdout"
        },
        {
          "output_type": "stream",
          "text": [
            "Loss=0.7511418461799622 Batch_id=58 Accuracy_digit=98.76 Accuracy_Rnum=93.08: 100%|██████████| 59/59 [00:02<00:00, 27.96it/s]\n",
            "  0%|          | 0/59 [00:00<?, ?it/s]"
          ],
          "name": "stderr"
        },
        {
          "output_type": "stream",
          "text": [
            "Test set: Accuracy_digit=99.03 Accuracy_Rnum=95.67\n",
            "EPOCH: 45\n"
          ],
          "name": "stdout"
        },
        {
          "output_type": "stream",
          "text": [
            "Loss=0.7434156537055969 Batch_id=58 Accuracy_digit=98.80 Accuracy_Rnum=93.62: 100%|██████████| 59/59 [00:02<00:00, 28.63it/s]\n",
            "  0%|          | 0/59 [00:00<?, ?it/s]"
          ],
          "name": "stderr"
        },
        {
          "output_type": "stream",
          "text": [
            "Test set: Accuracy_digit=99.1 Accuracy_Rnum=95.93\n",
            "EPOCH: 46\n"
          ],
          "name": "stdout"
        },
        {
          "output_type": "stream",
          "text": [
            "Loss=0.7201598882675171 Batch_id=58 Accuracy_digit=98.69 Accuracy_Rnum=93.57: 100%|██████████| 59/59 [00:02<00:00, 28.23it/s]\n",
            "  0%|          | 0/59 [00:00<?, ?it/s]"
          ],
          "name": "stderr"
        },
        {
          "output_type": "stream",
          "text": [
            "Test set: Accuracy_digit=99.11 Accuracy_Rnum=95.02\n",
            "EPOCH: 47\n"
          ],
          "name": "stdout"
        },
        {
          "output_type": "stream",
          "text": [
            "Loss=0.8479816317558289 Batch_id=58 Accuracy_digit=98.79 Accuracy_Rnum=92.85: 100%|██████████| 59/59 [00:02<00:00, 28.98it/s]\n",
            "  0%|          | 0/59 [00:00<?, ?it/s]"
          ],
          "name": "stderr"
        },
        {
          "output_type": "stream",
          "text": [
            "Test set: Accuracy_digit=99.05 Accuracy_Rnum=96.5\n",
            "EPOCH: 48\n"
          ],
          "name": "stdout"
        },
        {
          "output_type": "stream",
          "text": [
            "Loss=0.4831181764602661 Batch_id=58 Accuracy_digit=98.79 Accuracy_Rnum=94.17: 100%|██████████| 59/59 [00:02<00:00, 28.54it/s]\n",
            "  0%|          | 0/59 [00:00<?, ?it/s]"
          ],
          "name": "stderr"
        },
        {
          "output_type": "stream",
          "text": [
            "Test set: Accuracy_digit=98.88 Accuracy_Rnum=95.94\n",
            "EPOCH: 49\n"
          ],
          "name": "stdout"
        },
        {
          "output_type": "stream",
          "text": [
            "Loss=0.8443437814712524 Batch_id=58 Accuracy_digit=98.78 Accuracy_Rnum=94.11: 100%|██████████| 59/59 [00:02<00:00, 29.28it/s]\n"
          ],
          "name": "stderr"
        },
        {
          "output_type": "stream",
          "text": [
            "Test set: Accuracy_digit=99.09 Accuracy_Rnum=96.76\n"
          ],
          "name": "stdout"
        },
        {
          "output_type": "display_data",
          "data": {
            "image/png": "[encoded data removed]",
            "text/plain": [
              "<Figure size 1080x720 with 4 Axes>"
            ]
          },
          "metadata": {
            "tags": [],
            "needs_background": "light"
          }
        }
      ]
    },
    {
      "cell_type": "code",
      "metadata": {
        "id": "6RLTnoVnU4u6"
      },
      "source": [
        ""
      ],
      "execution_count": 16,
      "outputs": []
    }
  ]
}